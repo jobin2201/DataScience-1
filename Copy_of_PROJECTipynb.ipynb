{
  "nbformat": 4,
  "nbformat_minor": 0,
  "metadata": {
    "colab": {
      "provenance": []
    },
    "kernelspec": {
      "name": "python3",
      "display_name": "Python 3"
    },
    "language_info": {
      "name": "python"
    }
  },
  "cells": [
    {
      "cell_type": "code",
      "execution_count": null,
      "metadata": {
        "id": "WaUUxdWIf-i-"
      },
      "outputs": [],
      "source": [
        "# #Dat Cleaning\n",
        "# eda\n",
        "# data visua;lization\n",
        "# #Model Building\n",
        "# #performbnace Analysis\n"
      ]
    },
    {
      "cell_type": "markdown",
      "source": [
        "QUALITY EDUCATION"
      ],
      "metadata": {
        "id": "TsB9gL2ejpeT"
      }
    },
    {
      "cell_type": "code",
      "source": [
        "import numpy as np\n",
        "import pandas as pd"
      ],
      "metadata": {
        "id": "Uib5WtVVgv0F"
      },
      "execution_count": null,
      "outputs": []
    },
    {
      "cell_type": "code",
      "source": [
        "from google.colab import drive\n",
        "drive.mount('/content/drive', force_remount = True)"
      ],
      "metadata": {
        "colab": {
          "base_uri": "https://localhost:8080/"
        },
        "id": "eHUWjtywheew",
        "outputId": "e43c6ac9-a988-4dec-d482-d82ef7fdda4d"
      },
      "execution_count": null,
      "outputs": [
        {
          "output_type": "stream",
          "name": "stdout",
          "text": [
            "Mounted at /content/drive\n"
          ]
        }
      ]
    },
    {
      "cell_type": "code",
      "source": [
        "path = 'drive/My Drive/Colab Notebooks/8.csv'\n",
        "import pandas as pd\n",
        "df = pd.read_csv(path)\n",
        "print(type(df))\n",
        "print(df)"
      ],
      "metadata": {
        "colab": {
          "base_uri": "https://localhost:8080/"
        },
        "id": "xU6vtagLhg7p",
        "outputId": "ffe28902-706a-423b-ae31-dacbfbb29a8f"
      },
      "execution_count": 40,
      "outputs": [
        {
          "output_type": "stream",
          "name": "stdout",
          "text": [
            "<class 'pandas.core.frame.DataFrame'>\n",
            "             School Type            India/ State/ UTs  2001  2002  2003  2004  \\\n",
            "0         Primary School  Andaman and Nicobar Islands  1.00  0.95  0.95  0.98   \n",
            "1         Primary School               Andhra Pradesh  0.99  1.01  1.01  1.01   \n",
            "2         Primary School            Arunachal Pradesh  0.83  0.88  0.90  0.89   \n",
            "3         Primary School                        Assam  0.84  0.97  1.00  0.99   \n",
            "4         Primary School                        Bihar  0.64  0.81  0.80  0.75   \n",
            "..                   ...                          ...   ...   ...   ...   ...   \n",
            "66  Upper Primary School                   Tamil Nadu  0.98  0.98  0.96  0.96   \n",
            "67  Upper Primary School                      Tripura  0.87  0.94  0.93  0.94   \n",
            "68  Upper Primary School                Uttar Pradesh  0.50  0.80  0.80  0.80   \n",
            "69  Upper Primary School                  Uttarakhand  0.95  0.93  0.98  1.00   \n",
            "70  Upper Primary School                  West Bengal  0.78  0.92  0.95  0.91   \n",
            "\n",
            "    2005  2006  2007  2008  2009  2010  \n",
            "0   1.00  1.02  1.06  1.00  0.98  0.97  \n",
            "1   1.01  1.00  1.00  1.01  1.00  1.00  \n",
            "2   0.90  0.90  0.92  0.95  0.96  0.96  \n",
            "3   1.00  1.02  1.00  1.00  1.03  1.03  \n",
            "4   0.75  0.77  0.82  0.84  0.87  0.94  \n",
            "..   ...   ...   ...   ...   ...   ...  \n",
            "66  0.97  0.98  0.97  0.97  0.98  0.99  \n",
            "67  0.99  1.00  1.00  0.99  1.00  0.99  \n",
            "68  0.79  0.79  0.90  0.90  0.89  0.90  \n",
            "69  1.01  1.02  1.04  1.07  1.07  1.07  \n",
            "70  0.88  1.03  1.03  1.03  1.08  1.04  \n",
            "\n",
            "[71 rows x 12 columns]\n"
          ]
        }
      ]
    },
    {
      "cell_type": "code",
      "source": [
        "#To read only first 5 rows\n",
        "df.head()\n"
      ],
      "metadata": {
        "colab": {
          "base_uri": "https://localhost:8080/",
          "height": 206
        },
        "id": "9P68hvEZiL9p",
        "outputId": "a801aae0-5ac6-494b-866f-4c132f992e50"
      },
      "execution_count": 41,
      "outputs": [
        {
          "output_type": "execute_result",
          "data": {
            "text/plain": [
              "      School Type            India/ State/ UTs  2001  2002  2003  2004  2005  \\\n",
              "0  Primary School  Andaman and Nicobar Islands  1.00  0.95  0.95  0.98  1.00   \n",
              "1  Primary School               Andhra Pradesh  0.99  1.01  1.01  1.01  1.01   \n",
              "2  Primary School            Arunachal Pradesh  0.83  0.88  0.90  0.89  0.90   \n",
              "3  Primary School                        Assam  0.84  0.97  1.00  0.99  1.00   \n",
              "4  Primary School                        Bihar  0.64  0.81  0.80  0.75  0.75   \n",
              "\n",
              "   2006  2007  2008  2009  2010  \n",
              "0  1.02  1.06  1.00  0.98  0.97  \n",
              "1  1.00  1.00  1.01  1.00  1.00  \n",
              "2  0.90  0.92  0.95  0.96  0.96  \n",
              "3  1.02  1.00  1.00  1.03  1.03  \n",
              "4  0.77  0.82  0.84  0.87  0.94  "
            ],
            "text/html": [
              "\n",
              "  <div id=\"df-3b5349be-97b4-48fd-96dd-947c96d4ab88\">\n",
              "    <div class=\"colab-df-container\">\n",
              "      <div>\n",
              "<style scoped>\n",
              "    .dataframe tbody tr th:only-of-type {\n",
              "        vertical-align: middle;\n",
              "    }\n",
              "\n",
              "    .dataframe tbody tr th {\n",
              "        vertical-align: top;\n",
              "    }\n",
              "\n",
              "    .dataframe thead th {\n",
              "        text-align: right;\n",
              "    }\n",
              "</style>\n",
              "<table border=\"1\" class=\"dataframe\">\n",
              "  <thead>\n",
              "    <tr style=\"text-align: right;\">\n",
              "      <th></th>\n",
              "      <th>School Type</th>\n",
              "      <th>India/ State/ UTs</th>\n",
              "      <th>2001</th>\n",
              "      <th>2002</th>\n",
              "      <th>2003</th>\n",
              "      <th>2004</th>\n",
              "      <th>2005</th>\n",
              "      <th>2006</th>\n",
              "      <th>2007</th>\n",
              "      <th>2008</th>\n",
              "      <th>2009</th>\n",
              "      <th>2010</th>\n",
              "    </tr>\n",
              "  </thead>\n",
              "  <tbody>\n",
              "    <tr>\n",
              "      <th>0</th>\n",
              "      <td>Primary School</td>\n",
              "      <td>Andaman and Nicobar Islands</td>\n",
              "      <td>1.00</td>\n",
              "      <td>0.95</td>\n",
              "      <td>0.95</td>\n",
              "      <td>0.98</td>\n",
              "      <td>1.00</td>\n",
              "      <td>1.02</td>\n",
              "      <td>1.06</td>\n",
              "      <td>1.00</td>\n",
              "      <td>0.98</td>\n",
              "      <td>0.97</td>\n",
              "    </tr>\n",
              "    <tr>\n",
              "      <th>1</th>\n",
              "      <td>Primary School</td>\n",
              "      <td>Andhra Pradesh</td>\n",
              "      <td>0.99</td>\n",
              "      <td>1.01</td>\n",
              "      <td>1.01</td>\n",
              "      <td>1.01</td>\n",
              "      <td>1.01</td>\n",
              "      <td>1.00</td>\n",
              "      <td>1.00</td>\n",
              "      <td>1.01</td>\n",
              "      <td>1.00</td>\n",
              "      <td>1.00</td>\n",
              "    </tr>\n",
              "    <tr>\n",
              "      <th>2</th>\n",
              "      <td>Primary School</td>\n",
              "      <td>Arunachal Pradesh</td>\n",
              "      <td>0.83</td>\n",
              "      <td>0.88</td>\n",
              "      <td>0.90</td>\n",
              "      <td>0.89</td>\n",
              "      <td>0.90</td>\n",
              "      <td>0.90</td>\n",
              "      <td>0.92</td>\n",
              "      <td>0.95</td>\n",
              "      <td>0.96</td>\n",
              "      <td>0.96</td>\n",
              "    </tr>\n",
              "    <tr>\n",
              "      <th>3</th>\n",
              "      <td>Primary School</td>\n",
              "      <td>Assam</td>\n",
              "      <td>0.84</td>\n",
              "      <td>0.97</td>\n",
              "      <td>1.00</td>\n",
              "      <td>0.99</td>\n",
              "      <td>1.00</td>\n",
              "      <td>1.02</td>\n",
              "      <td>1.00</td>\n",
              "      <td>1.00</td>\n",
              "      <td>1.03</td>\n",
              "      <td>1.03</td>\n",
              "    </tr>\n",
              "    <tr>\n",
              "      <th>4</th>\n",
              "      <td>Primary School</td>\n",
              "      <td>Bihar</td>\n",
              "      <td>0.64</td>\n",
              "      <td>0.81</td>\n",
              "      <td>0.80</td>\n",
              "      <td>0.75</td>\n",
              "      <td>0.75</td>\n",
              "      <td>0.77</td>\n",
              "      <td>0.82</td>\n",
              "      <td>0.84</td>\n",
              "      <td>0.87</td>\n",
              "      <td>0.94</td>\n",
              "    </tr>\n",
              "  </tbody>\n",
              "</table>\n",
              "</div>\n",
              "      <button class=\"colab-df-convert\" onclick=\"convertToInteractive('df-3b5349be-97b4-48fd-96dd-947c96d4ab88')\"\n",
              "              title=\"Convert this dataframe to an interactive table.\"\n",
              "              style=\"display:none;\">\n",
              "        \n",
              "  <svg xmlns=\"http://www.w3.org/2000/svg\" height=\"24px\"viewBox=\"0 0 24 24\"\n",
              "       width=\"24px\">\n",
              "    <path d=\"M0 0h24v24H0V0z\" fill=\"none\"/>\n",
              "    <path d=\"M18.56 5.44l.94 2.06.94-2.06 2.06-.94-2.06-.94-.94-2.06-.94 2.06-2.06.94zm-11 1L8.5 8.5l.94-2.06 2.06-.94-2.06-.94L8.5 2.5l-.94 2.06-2.06.94zm10 10l.94 2.06.94-2.06 2.06-.94-2.06-.94-.94-2.06-.94 2.06-2.06.94z\"/><path d=\"M17.41 7.96l-1.37-1.37c-.4-.4-.92-.59-1.43-.59-.52 0-1.04.2-1.43.59L10.3 9.45l-7.72 7.72c-.78.78-.78 2.05 0 2.83L4 21.41c.39.39.9.59 1.41.59.51 0 1.02-.2 1.41-.59l7.78-7.78 2.81-2.81c.8-.78.8-2.07 0-2.86zM5.41 20L4 18.59l7.72-7.72 1.47 1.35L5.41 20z\"/>\n",
              "  </svg>\n",
              "      </button>\n",
              "      \n",
              "  <style>\n",
              "    .colab-df-container {\n",
              "      display:flex;\n",
              "      flex-wrap:wrap;\n",
              "      gap: 12px;\n",
              "    }\n",
              "\n",
              "    .colab-df-convert {\n",
              "      background-color: #E8F0FE;\n",
              "      border: none;\n",
              "      border-radius: 50%;\n",
              "      cursor: pointer;\n",
              "      display: none;\n",
              "      fill: #1967D2;\n",
              "      height: 32px;\n",
              "      padding: 0 0 0 0;\n",
              "      width: 32px;\n",
              "    }\n",
              "\n",
              "    .colab-df-convert:hover {\n",
              "      background-color: #E2EBFA;\n",
              "      box-shadow: 0px 1px 2px rgba(60, 64, 67, 0.3), 0px 1px 3px 1px rgba(60, 64, 67, 0.15);\n",
              "      fill: #174EA6;\n",
              "    }\n",
              "\n",
              "    [theme=dark] .colab-df-convert {\n",
              "      background-color: #3B4455;\n",
              "      fill: #D2E3FC;\n",
              "    }\n",
              "\n",
              "    [theme=dark] .colab-df-convert:hover {\n",
              "      background-color: #434B5C;\n",
              "      box-shadow: 0px 1px 3px 1px rgba(0, 0, 0, 0.15);\n",
              "      filter: drop-shadow(0px 1px 2px rgba(0, 0, 0, 0.3));\n",
              "      fill: #FFFFFF;\n",
              "    }\n",
              "  </style>\n",
              "\n",
              "      <script>\n",
              "        const buttonEl =\n",
              "          document.querySelector('#df-3b5349be-97b4-48fd-96dd-947c96d4ab88 button.colab-df-convert');\n",
              "        buttonEl.style.display =\n",
              "          google.colab.kernel.accessAllowed ? 'block' : 'none';\n",
              "\n",
              "        async function convertToInteractive(key) {\n",
              "          const element = document.querySelector('#df-3b5349be-97b4-48fd-96dd-947c96d4ab88');\n",
              "          const dataTable =\n",
              "            await google.colab.kernel.invokeFunction('convertToInteractive',\n",
              "                                                     [key], {});\n",
              "          if (!dataTable) return;\n",
              "\n",
              "          const docLinkHtml = 'Like what you see? Visit the ' +\n",
              "            '<a target=\"_blank\" href=https://colab.research.google.com/notebooks/data_table.ipynb>data table notebook</a>'\n",
              "            + ' to learn more about interactive tables.';\n",
              "          element.innerHTML = '';\n",
              "          dataTable['output_type'] = 'display_data';\n",
              "          await google.colab.output.renderOutput(dataTable, element);\n",
              "          const docLink = document.createElement('div');\n",
              "          docLink.innerHTML = docLinkHtml;\n",
              "          element.appendChild(docLink);\n",
              "        }\n",
              "      </script>\n",
              "    </div>\n",
              "  </div>\n",
              "  "
            ]
          },
          "metadata": {},
          "execution_count": 41
        }
      ]
    },
    {
      "cell_type": "code",
      "source": [
        "#To read only last 5 rows\n",
        "df.tail()"
      ],
      "metadata": {
        "colab": {
          "base_uri": "https://localhost:8080/",
          "height": 206
        },
        "id": "6YUP8uq4iQwT",
        "outputId": "7977a482-b95c-4343-8ebc-27a98401d092"
      },
      "execution_count": null,
      "outputs": [
        {
          "output_type": "execute_result",
          "data": {
            "text/plain": [
              "             School Type India/ State/ UTs  2001  2002  2003  2004  2005  \\\n",
              "67  Upper Primary School        Tamil Nadu  0.98  0.98  0.96  0.96  0.97   \n",
              "68  Upper Primary School           Tripura  0.87  0.94  0.93  0.94  0.99   \n",
              "69  Upper Primary School     Uttar Pradesh  0.50  0.80  0.80  0.80  0.79   \n",
              "70  Upper Primary School       Uttarakhand  0.95  0.93  0.98  1.00  1.01   \n",
              "71  Upper Primary School       West Bengal  0.78  0.92  0.95  0.91  0.88   \n",
              "\n",
              "    2006  2007  2008  2009  2010  \n",
              "67  0.98  0.97  0.97  0.98  0.99  \n",
              "68  1.00  1.00  0.99  1.00  0.99  \n",
              "69  0.79  0.90  0.90  0.89  0.90  \n",
              "70  1.02  1.04  1.07  1.07  1.07  \n",
              "71  1.03  1.03  1.03  1.08  1.04  "
            ],
            "text/html": [
              "\n",
              "  <div id=\"df-c8d3abc8-e56f-4f7e-8d9d-eae552b5184d\">\n",
              "    <div class=\"colab-df-container\">\n",
              "      <div>\n",
              "<style scoped>\n",
              "    .dataframe tbody tr th:only-of-type {\n",
              "        vertical-align: middle;\n",
              "    }\n",
              "\n",
              "    .dataframe tbody tr th {\n",
              "        vertical-align: top;\n",
              "    }\n",
              "\n",
              "    .dataframe thead th {\n",
              "        text-align: right;\n",
              "    }\n",
              "</style>\n",
              "<table border=\"1\" class=\"dataframe\">\n",
              "  <thead>\n",
              "    <tr style=\"text-align: right;\">\n",
              "      <th></th>\n",
              "      <th>School Type</th>\n",
              "      <th>India/ State/ UTs</th>\n",
              "      <th>2001</th>\n",
              "      <th>2002</th>\n",
              "      <th>2003</th>\n",
              "      <th>2004</th>\n",
              "      <th>2005</th>\n",
              "      <th>2006</th>\n",
              "      <th>2007</th>\n",
              "      <th>2008</th>\n",
              "      <th>2009</th>\n",
              "      <th>2010</th>\n",
              "    </tr>\n",
              "  </thead>\n",
              "  <tbody>\n",
              "    <tr>\n",
              "      <th>67</th>\n",
              "      <td>Upper Primary School</td>\n",
              "      <td>Tamil Nadu</td>\n",
              "      <td>0.98</td>\n",
              "      <td>0.98</td>\n",
              "      <td>0.96</td>\n",
              "      <td>0.96</td>\n",
              "      <td>0.97</td>\n",
              "      <td>0.98</td>\n",
              "      <td>0.97</td>\n",
              "      <td>0.97</td>\n",
              "      <td>0.98</td>\n",
              "      <td>0.99</td>\n",
              "    </tr>\n",
              "    <tr>\n",
              "      <th>68</th>\n",
              "      <td>Upper Primary School</td>\n",
              "      <td>Tripura</td>\n",
              "      <td>0.87</td>\n",
              "      <td>0.94</td>\n",
              "      <td>0.93</td>\n",
              "      <td>0.94</td>\n",
              "      <td>0.99</td>\n",
              "      <td>1.00</td>\n",
              "      <td>1.00</td>\n",
              "      <td>0.99</td>\n",
              "      <td>1.00</td>\n",
              "      <td>0.99</td>\n",
              "    </tr>\n",
              "    <tr>\n",
              "      <th>69</th>\n",
              "      <td>Upper Primary School</td>\n",
              "      <td>Uttar Pradesh</td>\n",
              "      <td>0.50</td>\n",
              "      <td>0.80</td>\n",
              "      <td>0.80</td>\n",
              "      <td>0.80</td>\n",
              "      <td>0.79</td>\n",
              "      <td>0.79</td>\n",
              "      <td>0.90</td>\n",
              "      <td>0.90</td>\n",
              "      <td>0.89</td>\n",
              "      <td>0.90</td>\n",
              "    </tr>\n",
              "    <tr>\n",
              "      <th>70</th>\n",
              "      <td>Upper Primary School</td>\n",
              "      <td>Uttarakhand</td>\n",
              "      <td>0.95</td>\n",
              "      <td>0.93</td>\n",
              "      <td>0.98</td>\n",
              "      <td>1.00</td>\n",
              "      <td>1.01</td>\n",
              "      <td>1.02</td>\n",
              "      <td>1.04</td>\n",
              "      <td>1.07</td>\n",
              "      <td>1.07</td>\n",
              "      <td>1.07</td>\n",
              "    </tr>\n",
              "    <tr>\n",
              "      <th>71</th>\n",
              "      <td>Upper Primary School</td>\n",
              "      <td>West Bengal</td>\n",
              "      <td>0.78</td>\n",
              "      <td>0.92</td>\n",
              "      <td>0.95</td>\n",
              "      <td>0.91</td>\n",
              "      <td>0.88</td>\n",
              "      <td>1.03</td>\n",
              "      <td>1.03</td>\n",
              "      <td>1.03</td>\n",
              "      <td>1.08</td>\n",
              "      <td>1.04</td>\n",
              "    </tr>\n",
              "  </tbody>\n",
              "</table>\n",
              "</div>\n",
              "      <button class=\"colab-df-convert\" onclick=\"convertToInteractive('df-c8d3abc8-e56f-4f7e-8d9d-eae552b5184d')\"\n",
              "              title=\"Convert this dataframe to an interactive table.\"\n",
              "              style=\"display:none;\">\n",
              "        \n",
              "  <svg xmlns=\"http://www.w3.org/2000/svg\" height=\"24px\"viewBox=\"0 0 24 24\"\n",
              "       width=\"24px\">\n",
              "    <path d=\"M0 0h24v24H0V0z\" fill=\"none\"/>\n",
              "    <path d=\"M18.56 5.44l.94 2.06.94-2.06 2.06-.94-2.06-.94-.94-2.06-.94 2.06-2.06.94zm-11 1L8.5 8.5l.94-2.06 2.06-.94-2.06-.94L8.5 2.5l-.94 2.06-2.06.94zm10 10l.94 2.06.94-2.06 2.06-.94-2.06-.94-.94-2.06-.94 2.06-2.06.94z\"/><path d=\"M17.41 7.96l-1.37-1.37c-.4-.4-.92-.59-1.43-.59-.52 0-1.04.2-1.43.59L10.3 9.45l-7.72 7.72c-.78.78-.78 2.05 0 2.83L4 21.41c.39.39.9.59 1.41.59.51 0 1.02-.2 1.41-.59l7.78-7.78 2.81-2.81c.8-.78.8-2.07 0-2.86zM5.41 20L4 18.59l7.72-7.72 1.47 1.35L5.41 20z\"/>\n",
              "  </svg>\n",
              "      </button>\n",
              "      \n",
              "  <style>\n",
              "    .colab-df-container {\n",
              "      display:flex;\n",
              "      flex-wrap:wrap;\n",
              "      gap: 12px;\n",
              "    }\n",
              "\n",
              "    .colab-df-convert {\n",
              "      background-color: #E8F0FE;\n",
              "      border: none;\n",
              "      border-radius: 50%;\n",
              "      cursor: pointer;\n",
              "      display: none;\n",
              "      fill: #1967D2;\n",
              "      height: 32px;\n",
              "      padding: 0 0 0 0;\n",
              "      width: 32px;\n",
              "    }\n",
              "\n",
              "    .colab-df-convert:hover {\n",
              "      background-color: #E2EBFA;\n",
              "      box-shadow: 0px 1px 2px rgba(60, 64, 67, 0.3), 0px 1px 3px 1px rgba(60, 64, 67, 0.15);\n",
              "      fill: #174EA6;\n",
              "    }\n",
              "\n",
              "    [theme=dark] .colab-df-convert {\n",
              "      background-color: #3B4455;\n",
              "      fill: #D2E3FC;\n",
              "    }\n",
              "\n",
              "    [theme=dark] .colab-df-convert:hover {\n",
              "      background-color: #434B5C;\n",
              "      box-shadow: 0px 1px 3px 1px rgba(0, 0, 0, 0.15);\n",
              "      filter: drop-shadow(0px 1px 2px rgba(0, 0, 0, 0.3));\n",
              "      fill: #FFFFFF;\n",
              "    }\n",
              "  </style>\n",
              "\n",
              "      <script>\n",
              "        const buttonEl =\n",
              "          document.querySelector('#df-c8d3abc8-e56f-4f7e-8d9d-eae552b5184d button.colab-df-convert');\n",
              "        buttonEl.style.display =\n",
              "          google.colab.kernel.accessAllowed ? 'block' : 'none';\n",
              "\n",
              "        async function convertToInteractive(key) {\n",
              "          const element = document.querySelector('#df-c8d3abc8-e56f-4f7e-8d9d-eae552b5184d');\n",
              "          const dataTable =\n",
              "            await google.colab.kernel.invokeFunction('convertToInteractive',\n",
              "                                                     [key], {});\n",
              "          if (!dataTable) return;\n",
              "\n",
              "          const docLinkHtml = 'Like what you see? Visit the ' +\n",
              "            '<a target=\"_blank\" href=https://colab.research.google.com/notebooks/data_table.ipynb>data table notebook</a>'\n",
              "            + ' to learn more about interactive tables.';\n",
              "          element.innerHTML = '';\n",
              "          dataTable['output_type'] = 'display_data';\n",
              "          await google.colab.output.renderOutput(dataTable, element);\n",
              "          const docLink = document.createElement('div');\n",
              "          docLink.innerHTML = docLinkHtml;\n",
              "          element.appendChild(docLink);\n",
              "        }\n",
              "      </script>\n",
              "    </div>\n",
              "  </div>\n",
              "  "
            ]
          },
          "metadata": {},
          "execution_count": 11
        }
      ]
    },
    {
      "cell_type": "code",
      "source": [
        "import numpy as np\n",
        "from sklearn.model_selection import train_test_split\n",
        "from sklearn.preprocessing import StandardScaler\n",
        "from sklearn.neighbors import KNeighborsClassifier\n",
        "from sklearn.metrics import confusion_matrix\n",
        "from sklearn.metrics import accuracy_score\n",
        "from sklearn.metrics import classification_report, roc_curve, auc\n",
        "import matplotlib.pyplot as plt"
      ],
      "metadata": {
        "id": "6DOjLpqUiTdr"
      },
      "execution_count": null,
      "outputs": []
    },
    {
      "cell_type": "markdown",
      "source": [
        "DATA CLEANING"
      ],
      "metadata": {
        "id": "lHufdcc3juAJ"
      }
    },
    {
      "cell_type": "code",
      "source": [
        "df1 = df.dropna(inplace = True)\n",
        "print(df1)"
      ],
      "metadata": {
        "colab": {
          "base_uri": "https://localhost:8080/"
        },
        "id": "P7LVt-YJjCmP",
        "outputId": "b36ba5c1-ff86-407b-f299-a39b312ae54e"
      },
      "execution_count": 42,
      "outputs": [
        {
          "output_type": "stream",
          "name": "stdout",
          "text": [
            "None\n"
          ]
        }
      ]
    },
    {
      "cell_type": "code",
      "source": [
        "s = (df['School Type'] == 'Primary School')\n",
        "print('series object:', s)\n",
        "result = df[s] # Using boolean indexing to select all rows with 'Primary School'\n",
        "\n",
        "print(result)"
      ],
      "metadata": {
        "colab": {
          "base_uri": "https://localhost:8080/"
        },
        "id": "hil1_3eHoXA6",
        "outputId": "662e3651-40c2-4308-d1b3-142d5ed956d9"
      },
      "execution_count": null,
      "outputs": [
        {
          "output_type": "stream",
          "name": "stdout",
          "text": [
            "series object: 1      True\n",
            "2      True\n",
            "3      True\n",
            "4      True\n",
            "5      True\n",
            "      ...  \n",
            "67    False\n",
            "68    False\n",
            "69    False\n",
            "70    False\n",
            "71    False\n",
            "Name: School Type, Length: 70, dtype: bool\n",
            "       School Type            India/ State/ UTs   2001   2002  2003  2004  \\\n",
            "1   Primary School  Andaman and Nicobar Islands   1.00   0.95  0.95  0.98   \n",
            "2   Primary School               Andhra Pradesh   0.99   1.01  1.01  1.01   \n",
            "3   Primary School            Arunachal Pradesh   0.83   0.88  0.90  0.89   \n",
            "4   Primary School                        Assam   0.84   0.97  1.00  0.99   \n",
            "5   Primary School                        Bihar   0.64   0.81  0.80  0.75   \n",
            "6   Primary School                   Chandigarh   0.97   0.98  0.98  0.90   \n",
            "7   Primary School                 Chhattisgarh   0.87   0.95  0.99  0.94   \n",
            "8   Primary School       Dadra and Nagar Haveli   0.72   0.86  0.88  0.93   \n",
            "9   Primary School                Daman and Diu   0.81   0.96  0.99  0.88   \n",
            "10  Primary School                        Delhi   0.95   1.03  0.99  1.11   \n",
            "11  Primary School                          Goa   0.84   0.96  0.95  0.98   \n",
            "12  Primary School                      Gujarat   0.84   0.95  0.92  0.87   \n",
            "13  Primary School                      Haryana   1.00   1.01  1.05  1.06   \n",
            "14  Primary School             Himachal Pradesh   0.83   1.00  1.01  0.99   \n",
            "15  Primary School            Jammu and Kashmir   0.76   0.87  0.89  0.98   \n",
            "16  Primary School                    Jharkhand   0.76   0.84  0.82  0.84   \n",
            "17  Primary School                    Karnataka   0.93   0.97  0.97  0.98   \n",
            "18  Primary School                       Kerala   0.99   0.99  0.99  1.00   \n",
            "19  Primary School                  Lakshadweep  86.00   0.88  0.90  0.89   \n",
            "20  Primary School               Madhya Pradesh   0.85   0.92  0.90  0.95   \n",
            "21  Primary School                  Maharashtra   0.96   0.98  0.99  1.00   \n",
            "22  Primary School                      Manipur   0.84   0.97  0.97  0.96   \n",
            "23  Primary School                    Meghalaya   0.91   1.05  1.03  1.03   \n",
            "24  Primary School                      Mizoram   0.81   0.96  0.96  0.93   \n",
            "25  Primary School                     Nagaland   0.91   0.98  0.99  0.98   \n",
            "26  Primary School                       Odisha   0.73   0.94  0.94  0.97   \n",
            "27  Primary School                   Puducherry   0.82   0.98  0.97  0.87   \n",
            "28  Primary School                       Punjab   1.01   1.08  1.08  1.08   \n",
            "29  Primary School                    Rajasthan   0.60   0.91  0.91  0.93   \n",
            "30  Primary School                       Sikkim   0.95   1.02  1.00  0.99   \n",
            "31  Primary School                   Tamil Nadu   1.00   0.98  0.98  0.98   \n",
            "32  Primary School                      Tripura   0.84   0.95  0.95  0.96   \n",
            "33  Primary School                Uttar Pradesh   0.61  96.00  0.96  0.94   \n",
            "34  Primary School                  Uttarakhand   1.02   1.02  1.01  1.01   \n",
            "35  Primary School                  West Bengal   0.95   1.01  1.00  0.99   \n",
            "\n",
            "    2005  2006  2007  2008  2009  2010  \n",
            "1   1.00  1.02  1.06  1.00  0.98  0.97  \n",
            "2   1.01  1.00  1.00  1.01  1.00  1.00  \n",
            "3   0.90  0.90  0.92  0.95  0.96  0.96  \n",
            "4   1.00  1.02  1.00  1.00  1.03  1.03  \n",
            "5   0.75  0.77  0.82  0.84  0.87  0.94  \n",
            "6   0.87  0.83  0.87  0.98  0.99  0.99  \n",
            "7   0.77  0.94  0.95  0.95  0.95  0.96  \n",
            "8   0.96  0.98  1.01  1.08  1.05  1.03  \n",
            "9   0.87  0.92  0.86  1.02  1.04  1.08  \n",
            "10  1.04  1.00  1.02  1.02  1.02  1.03  \n",
            "11  0.96  0.97  0.98  0.97  0.95  0.95  \n",
            "12  0.87  0.87  0.88  1.07  1.01  1.02  \n",
            "13  1.04  1.04  1.07  1.18  1.04  1.11  \n",
            "14  1.01  1.00  1.00  1.00  1.00  1.00  \n",
            "15  0.95  0.95  0.95  0.99  1.02  1.03  \n",
            "16  0.86  0.89  1.00  1.00  1.02  1.02  \n",
            "17  0.98  0.97  0.98  0.98  0.99  0.99  \n",
            "18  1.00  1.01  1.01  1.01  1.00  1.00  \n",
            "19  0.93  1.02  0.94  1.02  1.03  0.99  \n",
            "20  0.96  0.96  0.99  1.00  1.01  1.06  \n",
            "21  0.98  0.96  0.97  0.97  0.98  0.98  \n",
            "22  0.96  0.96  0.97  0.96  0.96  0.96  \n",
            "23  0.98  0.99  0.98  0.98  1.01  1.01  \n",
            "24  0.98  0.96  0.94  0.94  0.93  0.94  \n",
            "25  0.98  0.98  1.00  0.99  0.99  0.99  \n",
            "26  0.97  0.96  1.00  1.01  1.01  1.01  \n",
            "27  0.88  0.87  0.87  0.98  0.98  0.98  \n",
            "28  1.08  1.09  0.98  0.98  1.03  0.99  \n",
            "29  0.95  0.95  0.95  0.94  0.97  0.99  \n",
            "30  0.97  1.01  0.98  0.97  0.97  0.97  \n",
            "31  0.99  1.00  1.00  0.99  1.01  1.01  \n",
            "32  0.95  0.96  0.98  0.98  0.98  0.99  \n",
            "33  0.93  0.93  1.05  1.06  1.08  1.05  \n",
            "34  1.03  1.05  1.09  1.03  1.03  1.02  \n",
            "35  0.96  1.01  0.99  1.01  1.01  1.03  \n"
          ]
        }
      ]
    },
    {
      "cell_type": "code",
      "source": [
        "s = (df['School Type'] == 'Upper Primary School')\n",
        "print('series object:', s)\n",
        "result = df[s] # Using boolean indexing to select all rows with 'Primary School'\n",
        "\n",
        "print(result)"
      ],
      "metadata": {
        "colab": {
          "base_uri": "https://localhost:8080/"
        },
        "id": "orts6svjyMG8",
        "outputId": "8d9d8254-629d-4cd0-870e-57097d3bb4dd"
      },
      "execution_count": 74,
      "outputs": [
        {
          "output_type": "stream",
          "name": "stdout",
          "text": [
            "series object: 0     False\n",
            "1     False\n",
            "2     False\n",
            "3     False\n",
            "4     False\n",
            "      ...  \n",
            "66     True\n",
            "67     True\n",
            "68     True\n",
            "69     True\n",
            "70     True\n",
            "Name: School Type, Length: 71, dtype: bool\n",
            "             School Type            India/ State/ UTs  2001  2002  2003  2004  \\\n",
            "35  Upper Primary School                        India   NaN   NaN   NaN   NaN   \n",
            "36  Upper Primary School  Andaman and Nicobar Islands  0.97  0.93  0.91  1.06   \n",
            "37  Upper Primary School               Andhra Pradesh  0.86  0.92  0.93  0.95   \n",
            "38  Upper Primary School            Arunachal Pradesh  0.89  0.88  0.87  0.85   \n",
            "39  Upper Primary School                        Assam  0.79  0.97  0.93  0.93   \n",
            "40  Upper Primary School                        Bihar  0.55  0.62  0.63  0.61   \n",
            "41  Upper Primary School                   Chandigarh  1.10  1.01  1.01  1.11   \n",
            "42  Upper Primary School                 Chhattisgarh  0.72  0.79  0.79  0.79   \n",
            "43  Upper Primary School       Dadra and Nagar Haveli  0.62  0.66  0.69  0.74   \n",
            "44  Upper Primary School                Daman and Diu  0.68  0.91  0.93  1.17   \n",
            "45  Upper Primary School                        Delhi  0.93  0.99  1.01  1.13   \n",
            "46  Upper Primary School                          Goa  0.87  0.93  0.93  0.97   \n",
            "47  Upper Primary School                      Gujarat  0.93  0.82  0.70  0.82   \n",
            "48  Upper Primary School                      Haryana  0.93  0.91  0.91  0.96   \n",
            "49  Upper Primary School             Himachal Pradesh  0.87  0.95  0.97  0.97   \n",
            "50  Upper Primary School            Jammu and Kashmir  0.76  0.85  0.85  0.85   \n",
            "51  Upper Primary School                    Jharkhand  0.70  0.73  0.76  0.75   \n",
            "52  Upper Primary School                    Karnataka  0.90  0.92  0.93  0.95   \n",
            "53  Upper Primary School                       Kerala  0.95  0.95  0.96  0.95   \n",
            "54  Upper Primary School                  Lakshadweep  0.85  0.87  0.86  1.05   \n",
            "55  Upper Primary School               Madhya Pradesh  0.66  0.70  0.75  0.86   \n",
            "56  Upper Primary School                  Maharashtra  0.91  0.94  0.96  0.98   \n",
            "57  Upper Primary School                      Manipur  0.86  0.99  0.94  0.94   \n",
            "58  Upper Primary School                    Meghalaya  1.02  1.11  1.03  1.12   \n",
            "59  Upper Primary School                      Mizoram  0.96  0.99  0.99  0.99   \n",
            "60  Upper Primary School                     Nagaland  1.04  1.01  1.05  1.00   \n",
            "61  Upper Primary School                       Odisha  0.66  0.84  0.85  0.88   \n",
            "62  Upper Primary School                   Puducherry  0.88  0.96  0.96  0.92   \n",
            "63  Upper Primary School                       Punjab  0.99  1.05  1.03  1.06   \n",
            "64  Upper Primary School                    Rajasthan  0.47  0.59  0.64  0.65   \n",
            "65  Upper Primary School                       Sikkim  1.15  1.10  1.18  1.17   \n",
            "66  Upper Primary School                   Tamil Nadu  0.98  0.98  0.96  0.96   \n",
            "67  Upper Primary School                      Tripura  0.87  0.94  0.93  0.94   \n",
            "68  Upper Primary School                Uttar Pradesh  0.50  0.80  0.80  0.80   \n",
            "69  Upper Primary School                  Uttarakhand  0.95  0.93  0.98  1.00   \n",
            "70  Upper Primary School                  West Bengal  0.78  0.92  0.95  0.91   \n",
            "\n",
            "    2005  2006  2007  2008  2009  2010  \n",
            "35   NaN  0.90  0.91  0.93  0.94  0.95  \n",
            "36  1.07  0.97  0.91  0.96  0.97  0.97  \n",
            "37  0.96  0.97  0.98  0.99  0.99  1.00  \n",
            "38  0.85  0.86  0.87  0.91  0.93  0.95  \n",
            "39  0.93  0.94  0.98  1.04  1.04  1.02  \n",
            "40  0.64  0.69  0.73  0.76  0.82  0.88  \n",
            "41  1.05  1.03  0.97  0.95  0.92  0.91  \n",
            "42  0.87  0.89  0.89  0.92  0.93  0.94  \n",
            "43  0.75  0.73  0.81  0.94  0.94  1.00  \n",
            "44  1.13  0.94  0.84  1.10  1.10  1.12  \n",
            "45  1.07  1.07  1.05  0.99  0.97  0.96  \n",
            "46  0.95  0.94  0.92  0.92  0.92  0.93  \n",
            "47  0.82  0.82  0.82  0.94  0.91  0.91  \n",
            "48  1.00  1.03  1.01  1.19  1.04  1.03  \n",
            "49  0.97  0.97  0.98  0.98  0.98  0.96  \n",
            "50  0.82  0.82  0.82  0.95  0.95  0.96  \n",
            "51  0.75  0.77  0.71  0.70  0.97  0.99  \n",
            "52  0.97  0.96  0.97  0.97  0.96  0.97  \n",
            "53  0.95  0.96  0.97  0.96  0.96  0.95  \n",
            "54  1.17  1.00  0.92  0.97  1.10  1.26  \n",
            "55  0.87  0.89  0.92  0.93  0.95  1.02  \n",
            "56  1.02  1.01  0.96  0.96  0.95  0.94  \n",
            "57  0.93  0.93  0.94  0.93  0.93  0.93  \n",
            "58  1.06  1.08  1.07  1.11  1.11  1.12  \n",
            "59  1.00  0.98  0.98  0.96  0.95  0.94  \n",
            "60  1.04  1.04  1.04  1.02  1.02  1.02  \n",
            "61  0.88  0.89  0.93  0.94  0.96  0.97  \n",
            "62  0.91  0.88  0.86  0.93  0.96  0.93  \n",
            "63  1.05  1.03  0.96  0.97  1.00  0.96  \n",
            "64  0.68  0.71  0.74  0.75  0.77  0.80  \n",
            "65  1.17  1.17  1.21  1.19  1.19  1.22  \n",
            "66  0.97  0.98  0.97  0.97  0.98  0.99  \n",
            "67  0.99  1.00  1.00  0.99  1.00  0.99  \n",
            "68  0.79  0.79  0.90  0.90  0.89  0.90  \n",
            "69  1.01  1.02  1.04  1.07  1.07  1.07  \n",
            "70  0.88  1.03  1.03  1.03  1.08  1.04  \n"
          ]
        }
      ]
    },
    {
      "cell_type": "code",
      "source": [
        "df.rename(columns={'India/ State/ UTs':'States'},inplace=True)\n",
        "df"
      ],
      "metadata": {
        "id": "S_GZcdeb5Qk5",
        "colab": {
          "base_uri": "https://localhost:8080/",
          "height": 423
        },
        "outputId": "6bbc1781-f6dc-47ab-a0a1-afc83dbdf711"
      },
      "execution_count": null,
      "outputs": [
        {
          "output_type": "execute_result",
          "data": {
            "text/plain": [
              "             School Type                       States  2001  2002  2003  2004  \\\n",
              "1         Primary School  Andaman and Nicobar Islands  1.00  0.95  0.95  0.98   \n",
              "2         Primary School               Andhra Pradesh  0.99  1.01  1.01  1.01   \n",
              "3         Primary School            Arunachal Pradesh  0.83  0.88  0.90  0.89   \n",
              "4         Primary School                        Assam  0.84  0.97  1.00  0.99   \n",
              "5         Primary School                        Bihar  0.64  0.81  0.80  0.75   \n",
              "..                   ...                          ...   ...   ...   ...   ...   \n",
              "67  Upper Primary School                   Tamil Nadu  0.98  0.98  0.96  0.96   \n",
              "68  Upper Primary School                      Tripura  0.87  0.94  0.93  0.94   \n",
              "69  Upper Primary School                Uttar Pradesh  0.50  0.80  0.80  0.80   \n",
              "70  Upper Primary School                  Uttarakhand  0.95  0.93  0.98  1.00   \n",
              "71  Upper Primary School                  West Bengal  0.78  0.92  0.95  0.91   \n",
              "\n",
              "    2005  2006  2007  2008  2009  2010  \n",
              "1   1.00  1.02  1.06  1.00  0.98  0.97  \n",
              "2   1.01  1.00  1.00  1.01  1.00  1.00  \n",
              "3   0.90  0.90  0.92  0.95  0.96  0.96  \n",
              "4   1.00  1.02  1.00  1.00  1.03  1.03  \n",
              "5   0.75  0.77  0.82  0.84  0.87  0.94  \n",
              "..   ...   ...   ...   ...   ...   ...  \n",
              "67  0.97  0.98  0.97  0.97  0.98  0.99  \n",
              "68  0.99  1.00  1.00  0.99  1.00  0.99  \n",
              "69  0.79  0.79  0.90  0.90  0.89  0.90  \n",
              "70  1.01  1.02  1.04  1.07  1.07  1.07  \n",
              "71  0.88  1.03  1.03  1.03  1.08  1.04  \n",
              "\n",
              "[70 rows x 12 columns]"
            ],
            "text/html": [
              "\n",
              "  <div id=\"df-79e757ba-959c-4441-9663-4170206fd5b6\">\n",
              "    <div class=\"colab-df-container\">\n",
              "      <div>\n",
              "<style scoped>\n",
              "    .dataframe tbody tr th:only-of-type {\n",
              "        vertical-align: middle;\n",
              "    }\n",
              "\n",
              "    .dataframe tbody tr th {\n",
              "        vertical-align: top;\n",
              "    }\n",
              "\n",
              "    .dataframe thead th {\n",
              "        text-align: right;\n",
              "    }\n",
              "</style>\n",
              "<table border=\"1\" class=\"dataframe\">\n",
              "  <thead>\n",
              "    <tr style=\"text-align: right;\">\n",
              "      <th></th>\n",
              "      <th>School Type</th>\n",
              "      <th>States</th>\n",
              "      <th>2001</th>\n",
              "      <th>2002</th>\n",
              "      <th>2003</th>\n",
              "      <th>2004</th>\n",
              "      <th>2005</th>\n",
              "      <th>2006</th>\n",
              "      <th>2007</th>\n",
              "      <th>2008</th>\n",
              "      <th>2009</th>\n",
              "      <th>2010</th>\n",
              "    </tr>\n",
              "  </thead>\n",
              "  <tbody>\n",
              "    <tr>\n",
              "      <th>1</th>\n",
              "      <td>Primary School</td>\n",
              "      <td>Andaman and Nicobar Islands</td>\n",
              "      <td>1.00</td>\n",
              "      <td>0.95</td>\n",
              "      <td>0.95</td>\n",
              "      <td>0.98</td>\n",
              "      <td>1.00</td>\n",
              "      <td>1.02</td>\n",
              "      <td>1.06</td>\n",
              "      <td>1.00</td>\n",
              "      <td>0.98</td>\n",
              "      <td>0.97</td>\n",
              "    </tr>\n",
              "    <tr>\n",
              "      <th>2</th>\n",
              "      <td>Primary School</td>\n",
              "      <td>Andhra Pradesh</td>\n",
              "      <td>0.99</td>\n",
              "      <td>1.01</td>\n",
              "      <td>1.01</td>\n",
              "      <td>1.01</td>\n",
              "      <td>1.01</td>\n",
              "      <td>1.00</td>\n",
              "      <td>1.00</td>\n",
              "      <td>1.01</td>\n",
              "      <td>1.00</td>\n",
              "      <td>1.00</td>\n",
              "    </tr>\n",
              "    <tr>\n",
              "      <th>3</th>\n",
              "      <td>Primary School</td>\n",
              "      <td>Arunachal Pradesh</td>\n",
              "      <td>0.83</td>\n",
              "      <td>0.88</td>\n",
              "      <td>0.90</td>\n",
              "      <td>0.89</td>\n",
              "      <td>0.90</td>\n",
              "      <td>0.90</td>\n",
              "      <td>0.92</td>\n",
              "      <td>0.95</td>\n",
              "      <td>0.96</td>\n",
              "      <td>0.96</td>\n",
              "    </tr>\n",
              "    <tr>\n",
              "      <th>4</th>\n",
              "      <td>Primary School</td>\n",
              "      <td>Assam</td>\n",
              "      <td>0.84</td>\n",
              "      <td>0.97</td>\n",
              "      <td>1.00</td>\n",
              "      <td>0.99</td>\n",
              "      <td>1.00</td>\n",
              "      <td>1.02</td>\n",
              "      <td>1.00</td>\n",
              "      <td>1.00</td>\n",
              "      <td>1.03</td>\n",
              "      <td>1.03</td>\n",
              "    </tr>\n",
              "    <tr>\n",
              "      <th>5</th>\n",
              "      <td>Primary School</td>\n",
              "      <td>Bihar</td>\n",
              "      <td>0.64</td>\n",
              "      <td>0.81</td>\n",
              "      <td>0.80</td>\n",
              "      <td>0.75</td>\n",
              "      <td>0.75</td>\n",
              "      <td>0.77</td>\n",
              "      <td>0.82</td>\n",
              "      <td>0.84</td>\n",
              "      <td>0.87</td>\n",
              "      <td>0.94</td>\n",
              "    </tr>\n",
              "    <tr>\n",
              "      <th>...</th>\n",
              "      <td>...</td>\n",
              "      <td>...</td>\n",
              "      <td>...</td>\n",
              "      <td>...</td>\n",
              "      <td>...</td>\n",
              "      <td>...</td>\n",
              "      <td>...</td>\n",
              "      <td>...</td>\n",
              "      <td>...</td>\n",
              "      <td>...</td>\n",
              "      <td>...</td>\n",
              "      <td>...</td>\n",
              "    </tr>\n",
              "    <tr>\n",
              "      <th>67</th>\n",
              "      <td>Upper Primary School</td>\n",
              "      <td>Tamil Nadu</td>\n",
              "      <td>0.98</td>\n",
              "      <td>0.98</td>\n",
              "      <td>0.96</td>\n",
              "      <td>0.96</td>\n",
              "      <td>0.97</td>\n",
              "      <td>0.98</td>\n",
              "      <td>0.97</td>\n",
              "      <td>0.97</td>\n",
              "      <td>0.98</td>\n",
              "      <td>0.99</td>\n",
              "    </tr>\n",
              "    <tr>\n",
              "      <th>68</th>\n",
              "      <td>Upper Primary School</td>\n",
              "      <td>Tripura</td>\n",
              "      <td>0.87</td>\n",
              "      <td>0.94</td>\n",
              "      <td>0.93</td>\n",
              "      <td>0.94</td>\n",
              "      <td>0.99</td>\n",
              "      <td>1.00</td>\n",
              "      <td>1.00</td>\n",
              "      <td>0.99</td>\n",
              "      <td>1.00</td>\n",
              "      <td>0.99</td>\n",
              "    </tr>\n",
              "    <tr>\n",
              "      <th>69</th>\n",
              "      <td>Upper Primary School</td>\n",
              "      <td>Uttar Pradesh</td>\n",
              "      <td>0.50</td>\n",
              "      <td>0.80</td>\n",
              "      <td>0.80</td>\n",
              "      <td>0.80</td>\n",
              "      <td>0.79</td>\n",
              "      <td>0.79</td>\n",
              "      <td>0.90</td>\n",
              "      <td>0.90</td>\n",
              "      <td>0.89</td>\n",
              "      <td>0.90</td>\n",
              "    </tr>\n",
              "    <tr>\n",
              "      <th>70</th>\n",
              "      <td>Upper Primary School</td>\n",
              "      <td>Uttarakhand</td>\n",
              "      <td>0.95</td>\n",
              "      <td>0.93</td>\n",
              "      <td>0.98</td>\n",
              "      <td>1.00</td>\n",
              "      <td>1.01</td>\n",
              "      <td>1.02</td>\n",
              "      <td>1.04</td>\n",
              "      <td>1.07</td>\n",
              "      <td>1.07</td>\n",
              "      <td>1.07</td>\n",
              "    </tr>\n",
              "    <tr>\n",
              "      <th>71</th>\n",
              "      <td>Upper Primary School</td>\n",
              "      <td>West Bengal</td>\n",
              "      <td>0.78</td>\n",
              "      <td>0.92</td>\n",
              "      <td>0.95</td>\n",
              "      <td>0.91</td>\n",
              "      <td>0.88</td>\n",
              "      <td>1.03</td>\n",
              "      <td>1.03</td>\n",
              "      <td>1.03</td>\n",
              "      <td>1.08</td>\n",
              "      <td>1.04</td>\n",
              "    </tr>\n",
              "  </tbody>\n",
              "</table>\n",
              "<p>70 rows × 12 columns</p>\n",
              "</div>\n",
              "      <button class=\"colab-df-convert\" onclick=\"convertToInteractive('df-79e757ba-959c-4441-9663-4170206fd5b6')\"\n",
              "              title=\"Convert this dataframe to an interactive table.\"\n",
              "              style=\"display:none;\">\n",
              "        \n",
              "  <svg xmlns=\"http://www.w3.org/2000/svg\" height=\"24px\"viewBox=\"0 0 24 24\"\n",
              "       width=\"24px\">\n",
              "    <path d=\"M0 0h24v24H0V0z\" fill=\"none\"/>\n",
              "    <path d=\"M18.56 5.44l.94 2.06.94-2.06 2.06-.94-2.06-.94-.94-2.06-.94 2.06-2.06.94zm-11 1L8.5 8.5l.94-2.06 2.06-.94-2.06-.94L8.5 2.5l-.94 2.06-2.06.94zm10 10l.94 2.06.94-2.06 2.06-.94-2.06-.94-.94-2.06-.94 2.06-2.06.94z\"/><path d=\"M17.41 7.96l-1.37-1.37c-.4-.4-.92-.59-1.43-.59-.52 0-1.04.2-1.43.59L10.3 9.45l-7.72 7.72c-.78.78-.78 2.05 0 2.83L4 21.41c.39.39.9.59 1.41.59.51 0 1.02-.2 1.41-.59l7.78-7.78 2.81-2.81c.8-.78.8-2.07 0-2.86zM5.41 20L4 18.59l7.72-7.72 1.47 1.35L5.41 20z\"/>\n",
              "  </svg>\n",
              "      </button>\n",
              "      \n",
              "  <style>\n",
              "    .colab-df-container {\n",
              "      display:flex;\n",
              "      flex-wrap:wrap;\n",
              "      gap: 12px;\n",
              "    }\n",
              "\n",
              "    .colab-df-convert {\n",
              "      background-color: #E8F0FE;\n",
              "      border: none;\n",
              "      border-radius: 50%;\n",
              "      cursor: pointer;\n",
              "      display: none;\n",
              "      fill: #1967D2;\n",
              "      height: 32px;\n",
              "      padding: 0 0 0 0;\n",
              "      width: 32px;\n",
              "    }\n",
              "\n",
              "    .colab-df-convert:hover {\n",
              "      background-color: #E2EBFA;\n",
              "      box-shadow: 0px 1px 2px rgba(60, 64, 67, 0.3), 0px 1px 3px 1px rgba(60, 64, 67, 0.15);\n",
              "      fill: #174EA6;\n",
              "    }\n",
              "\n",
              "    [theme=dark] .colab-df-convert {\n",
              "      background-color: #3B4455;\n",
              "      fill: #D2E3FC;\n",
              "    }\n",
              "\n",
              "    [theme=dark] .colab-df-convert:hover {\n",
              "      background-color: #434B5C;\n",
              "      box-shadow: 0px 1px 3px 1px rgba(0, 0, 0, 0.15);\n",
              "      filter: drop-shadow(0px 1px 2px rgba(0, 0, 0, 0.3));\n",
              "      fill: #FFFFFF;\n",
              "    }\n",
              "  </style>\n",
              "\n",
              "      <script>\n",
              "        const buttonEl =\n",
              "          document.querySelector('#df-79e757ba-959c-4441-9663-4170206fd5b6 button.colab-df-convert');\n",
              "        buttonEl.style.display =\n",
              "          google.colab.kernel.accessAllowed ? 'block' : 'none';\n",
              "\n",
              "        async function convertToInteractive(key) {\n",
              "          const element = document.querySelector('#df-79e757ba-959c-4441-9663-4170206fd5b6');\n",
              "          const dataTable =\n",
              "            await google.colab.kernel.invokeFunction('convertToInteractive',\n",
              "                                                     [key], {});\n",
              "          if (!dataTable) return;\n",
              "\n",
              "          const docLinkHtml = 'Like what you see? Visit the ' +\n",
              "            '<a target=\"_blank\" href=https://colab.research.google.com/notebooks/data_table.ipynb>data table notebook</a>'\n",
              "            + ' to learn more about interactive tables.';\n",
              "          element.innerHTML = '';\n",
              "          dataTable['output_type'] = 'display_data';\n",
              "          await google.colab.output.renderOutput(dataTable, element);\n",
              "          const docLink = document.createElement('div');\n",
              "          docLink.innerHTML = docLinkHtml;\n",
              "          element.appendChild(docLink);\n",
              "        }\n",
              "      </script>\n",
              "    </div>\n",
              "  </div>\n",
              "  "
            ]
          },
          "metadata": {},
          "execution_count": 22
        }
      ]
    },
    {
      "cell_type": "markdown",
      "source": [
        "EDA"
      ],
      "metadata": {
        "id": "KGFj1pQjrsgN"
      }
    },
    {
      "cell_type": "code",
      "source": [
        "#Mean\n",
        "list = ['2001','2002','2003','2004','2005','2006','2007','2008','2009','2010']\n",
        "for i in list:\n",
        "  print('Mean for ',i ,'= ',df[i].mean())\n",
        "\n"
      ],
      "metadata": {
        "colab": {
          "base_uri": "https://localhost:8080/"
        },
        "id": "6IStZ0yHp30p",
        "outputId": "e6cb7891-5892-49ec-ca0e-a49883249491"
      },
      "execution_count": null,
      "outputs": [
        {
          "output_type": "stream",
          "name": "stdout",
          "text": [
            "Mean for  2001 =  2.0704285714285713\n",
            "Mean for  2002 =  2.2868571428571425\n",
            "Mean for  2003 =  0.9314285714285715\n",
            "Mean for  2004 =  0.9475714285714285\n",
            "Mean for  2005 =  0.9470000000000001\n",
            "Mean for  2006 =  0.9504285714285714\n",
            "Mean for  2007 =  0.9537142857142857\n",
            "Mean for  2008 =  0.9807142857142855\n",
            "Mean for  2009 =  0.9872857142857143\n",
            "Mean for  2010 =  0.9947142857142857\n"
          ]
        }
      ]
    },
    {
      "cell_type": "code",
      "source": [
        "#median\n",
        "list = ['2001','2002','2003','2004','2005','2006','2007','2008','2009','2010']\n",
        "for i in list:\n",
        "  print('Median for ',i ,'= ',df[i].median())"
      ],
      "metadata": {
        "colab": {
          "base_uri": "https://localhost:8080/"
        },
        "id": "XwIwizEZvoQ9",
        "outputId": "d3a3c9b5-1732-4793-a21d-93168ba2c788"
      },
      "execution_count": null,
      "outputs": [
        {
          "output_type": "stream",
          "name": "stdout",
          "text": [
            "Median for  2001 =  0.87\n",
            "Median for  2002 =  0.95\n",
            "Median for  2003 =  0.955\n",
            "Median for  2004 =  0.96\n",
            "Median for  2005 =  0.96\n",
            "Median for  2006 =  0.965\n",
            "Median for  2007 =  0.97\n",
            "Median for  2008 =  0.98\n",
            "Median for  2009 =  0.985\n",
            "Median for  2010 =  0.99\n"
          ]
        }
      ]
    },
    {
      "cell_type": "code",
      "source": [
        "#Mode\n",
        "list = ['2001','2002','2003','2004','2005','2006','2007','2008','2009','2010']\n",
        "for i in list:\n",
        "  print('Mode for ',i ,'= ',df[i].mode())"
      ],
      "metadata": {
        "colab": {
          "base_uri": "https://localhost:8080/"
        },
        "id": "WAub8Ydtvy-p",
        "outputId": "3b0bcb70-ed6b-4f87-9d5e-34fc2d9156e7"
      },
      "execution_count": null,
      "outputs": [
        {
          "output_type": "stream",
          "name": "stdout",
          "text": [
            "Mode for  2001 =  0    0.84\n",
            "1    0.95\n",
            "dtype: float64\n",
            "Mode for  2002 =  0    0.95\n",
            "1    0.98\n",
            "dtype: float64\n",
            "Mode for  2003 =  0    0.99\n",
            "dtype: float64\n",
            "Mode for  2004 =  0    0.98\n",
            "dtype: float64\n",
            "Mode for  2005 =  0    0.96\n",
            "dtype: float64\n",
            "Mode for  2006 =  0    0.96\n",
            "dtype: float64\n",
            "Mode for  2007 =  0    0.98\n",
            "dtype: float64\n",
            "Mode for  2008 =  0    0.97\n",
            "1    0.98\n",
            "dtype: float64\n",
            "Mode for  2009 =  0    0.95\n",
            "1    0.96\n",
            "2    0.98\n",
            "3    1.01\n",
            "dtype: float64\n",
            "Mode for  2010 =  0    0.99\n",
            "dtype: float64\n"
          ]
        }
      ]
    },
    {
      "cell_type": "markdown",
      "source": [
        "variability measures"
      ],
      "metadata": {
        "id": "TwW6zfRLwf4Y"
      }
    },
    {
      "cell_type": "code",
      "source": [
        "list = ['2001','2002','2003','2004','2005','2006','2007','2008','2009','2010']\n",
        "for i in list:\n",
        "  print('MIn for ',i ,'= ',df[i].min())"
      ],
      "metadata": {
        "colab": {
          "base_uri": "https://localhost:8080/"
        },
        "id": "J5HlAKJ9v42-",
        "outputId": "98b903b8-c2ec-4ee7-b276-bdf804898dea"
      },
      "execution_count": null,
      "outputs": [
        {
          "output_type": "stream",
          "name": "stdout",
          "text": [
            "MIn for  2001 =  0.47\n",
            "MIn for  2002 =  0.59\n",
            "MIn for  2003 =  0.63\n",
            "MIn for  2004 =  0.61\n",
            "MIn for  2005 =  0.64\n",
            "MIn for  2006 =  0.69\n",
            "MIn for  2007 =  0.71\n",
            "MIn for  2008 =  0.7\n",
            "MIn for  2009 =  0.77\n",
            "MIn for  2010 =  0.8\n"
          ]
        }
      ]
    },
    {
      "cell_type": "code",
      "source": [
        "list = ['2001','2002','2003','2004','2005','2006','2007','2008','2009','2010']\n",
        "for i in list:\n",
        "  print('Max for ',i ,'= ',df[i].max())"
      ],
      "metadata": {
        "colab": {
          "base_uri": "https://localhost:8080/"
        },
        "id": "UuafKRZpwZZt",
        "outputId": "6388ae39-d1c3-492b-99fe-ec3382e41948"
      },
      "execution_count": null,
      "outputs": [
        {
          "output_type": "stream",
          "name": "stdout",
          "text": [
            "Max for  2001 =  86.0\n",
            "Max for  2002 =  96.0\n",
            "Max for  2003 =  1.18\n",
            "Max for  2004 =  1.17\n",
            "Max for  2005 =  1.17\n",
            "Max for  2006 =  1.17\n",
            "Max for  2007 =  1.21\n",
            "Max for  2008 =  1.19\n",
            "Max for  2009 =  1.19\n",
            "Max for  2010 =  1.26\n"
          ]
        }
      ]
    },
    {
      "cell_type": "code",
      "source": [
        "list = ['2001','2002','2003','2004','2005','2006','2007','2008','2009','2010']\n",
        "for i in list:\n",
        "  print('Standard Deviation for ',i ,'= ',df[i].std())"
      ],
      "metadata": {
        "colab": {
          "base_uri": "https://localhost:8080/"
        },
        "id": "1q_HMsfPwcu9",
        "outputId": "47ee3ce0-eee0-45f1-e044-0d508d7d7954"
      },
      "execution_count": null,
      "outputs": [
        {
          "output_type": "stream",
          "name": "stdout",
          "text": [
            "Standard Deviation for  2001 =  10.177843716240456\n",
            "Standard Deviation for  2002 =  11.36364193800729\n",
            "Standard Deviation for  2003 =  0.09908692881353082\n",
            "Standard Deviation for  2004 =  0.10654570651903225\n",
            "Standard Deviation for  2005 =  0.10263697104887183\n",
            "Standard Deviation for  2006 =  0.09049678854556135\n",
            "Standard Deviation for  2007 =  0.08555312661802657\n",
            "Standard Deviation for  2008 =  0.0810138908928484\n",
            "Standard Deviation for  2009 =  0.06365489902413057\n",
            "Standard Deviation for  2010 =  0.06813714704515753\n"
          ]
        }
      ]
    },
    {
      "cell_type": "markdown",
      "source": [
        "IQR using quantile "
      ],
      "metadata": {
        "id": "dQ7Hwkw9xKLa"
      }
    },
    {
      "cell_type": "code",
      "source": [
        "q1 = df[list].quantile(q=0.25)\n",
        "q3 = df[list].quantile(q=0.75)\n",
        "iqr = q3 - q1\n",
        "print('IQR:')\n",
        "print(np.round(iqr, decimals=2))"
      ],
      "metadata": {
        "colab": {
          "base_uri": "https://localhost:8080/"
        },
        "id": "Mz56Sh49wtYL",
        "outputId": "affda544-1f4d-43ae-817f-c9936b155804"
      },
      "execution_count": null,
      "outputs": [
        {
          "output_type": "stream",
          "name": "stdout",
          "text": [
            "IQR:\n",
            "2001    0.18\n",
            "2002    0.10\n",
            "2003    0.09\n",
            "2004    0.10\n",
            "2005    0.12\n",
            "2006    0.10\n",
            "2007    0.08\n",
            "2008    0.06\n",
            "2009    0.07\n",
            "2010    0.06\n",
            "dtype: float64\n"
          ]
        }
      ]
    },
    {
      "cell_type": "code",
      "source": [
        "from scipy import stats\n",
        "\n",
        "data = [2001, 2002, 2003, 2004, 2005, 2006, 2007, 2008, 2009, 2010]\n",
        "z_scores = stats.zscore(data)\n",
        "print(\"Z-scores:\")\n",
        "print(z_scores)"
      ],
      "metadata": {
        "colab": {
          "base_uri": "https://localhost:8080/"
        },
        "id": "1KC_aE0Xxq0k",
        "outputId": "677baaae-d5e5-492b-ac33-cea6f0c79eed"
      },
      "execution_count": null,
      "outputs": [
        {
          "output_type": "stream",
          "name": "stdout",
          "text": [
            "Z-scores:\n",
            "[-1.5666989  -1.21854359 -0.87038828 -0.52223297 -0.17407766  0.17407766\n",
            "  0.52223297  0.87038828  1.21854359  1.5666989 ]\n"
          ]
        }
      ]
    },
    {
      "cell_type": "code",
      "source": [
        "import seaborn as sns\n",
        "import pandas as pd\n",
        "\n",
        "df = pd.read_csv('/content/drive/MyDrive/Colab Notebooks/8.csv')\n",
        "\n",
        "# Specify the column name to plot\n",
        "column_name = 'actual_column_name'\n",
        "\n",
        "# Create a box plot using seaborn\n",
        "if column_name in df.columns:\n",
        "    sns.catplot(x=column_name, kind='box', data=df)\n",
        "else:\n",
        "    print(f\"Column '{column_name}' not found in the DataFrame.\")\n",
        "\n",
        "# Print the mean, median, and mode of the specified column\n",
        "if column_name in df.columns:\n",
        "    print('Mean:', df[column_name].mean())\n",
        "    print('Median:', df[column_name].median())\n",
        "    print('Mode:', df[column_name].mode().iloc[0])\n",
        "else:\n",
        "    print(f\"Column '{column_name}' not found in the DataFrame.\")\n",
        "\n"
      ],
      "metadata": {
        "colab": {
          "base_uri": "https://localhost:8080/"
        },
        "id": "fOHj0D-ZzHF_",
        "outputId": "99525d16-8193-45f1-a451-a2887a0c3fb9"
      },
      "execution_count": 53,
      "outputs": [
        {
          "output_type": "stream",
          "name": "stdout",
          "text": [
            "Column 'actual_column_name' not found in the DataFrame.\n",
            "Column 'actual_column_name' not found in the DataFrame.\n"
          ]
        }
      ]
    },
    {
      "cell_type": "code",
      "source": [
        "\n",
        "for i in list:\n",
        "  Q1 = df[i].quantile(0.25)  \n",
        "  Q3 = df[i].quantile(0.75)\n",
        "  IQR = Q3 - Q1\n",
        "  print('IQR:', IQR)  \n",
        "  lb = Q1 - 1.5 * IQR\n",
        "  ub = Q3 + 1.5 * IQR\n",
        "\n",
        "  dfout = df[(df[i] > lb) & (df[i] < ub)]\n",
        "  dfout.shape\n",
        "  dfout.tail()\n",
        "  sns.catplot(x=i, kind = 'box',data=dfout)"
      ],
      "metadata": {
        "id": "4MM2LPJa0Z0p",
        "colab": {
          "base_uri": "https://localhost:8080/",
          "height": 1000
        },
        "outputId": "b53eca5e-0261-466f-e3a7-0ed80010b1b2"
      },
      "execution_count": 49,
      "outputs": [
        {
          "output_type": "stream",
          "name": "stdout",
          "text": [
            "IQR: 0.1499999999999999\n",
            "IQR: 0.08000000000000007\n",
            "IQR: 0.07750000000000001\n",
            "IQR: 0.09499999999999997\n",
            "IQR: 0.13\n",
            "IQR: 0.09499999999999997\n",
            "IQR: 0.125\n",
            "IQR: 0.06000000000000005\n",
            "IQR: 0.06250000000000011\n",
            "IQR: 0.06750000000000012\n"
          ]
        },
        {
          "output_type": "display_data",
          "data": {
            "text/plain": [
              "<Figure size 360x360 with 1 Axes>"
            ],
            "image/png": "[encoded data removed]"
          },
          "metadata": {
            "needs_background": "light"
          }
        },
        {
          "output_type": "display_data",
          "data": {
            "text/plain": [
              "<Figure size 360x360 with 1 Axes>"
            ],
            "image/png": "[encoded data removed]"
          },
          "metadata": {
            "needs_background": "light"
          }
        },
        {
          "output_type": "display_data",
          "data": {
            "text/plain": [
              "<Figure size 360x360 with 1 Axes>"
            ],
            "image/png": "[encoded data removed]"
          },
          "metadata": {
            "needs_background": "light"
          }
        },
        {
          "output_type": "display_data",
          "data": {
            "text/plain": [
              "<Figure size 360x360 with 1 Axes>"
            ],
            "image/png": "[encoded data removed]"
          },
          "metadata": {
            "needs_background": "light"
          }
        },
        {
          "output_type": "display_data",
          "data": {
            "text/plain": [
              "<Figure size 360x360 with 1 Axes>"
            ],
            "image/png": "[encoded data removed]"
          },
          "metadata": {
            "needs_background": "light"
          }
        },
        {
          "output_type": "display_data",
          "data": {
            "text/plain": [
              "<Figure size 360x360 with 1 Axes>"
            ],
            "image/png": "[encoded data removed]"
          },
          "metadata": {
            "needs_background": "light"
          }
        },
        {
          "output_type": "display_data",
          "data": {
            "text/plain": [
              "<Figure size 360x360 with 1 Axes>"
            ],
            "image/png": "[encoded data removed]"
          },
          "metadata": {
            "needs_background": "light"
          }
        },
        {
          "output_type": "display_data",
          "data": {
            "text/plain": [
              "<Figure size 360x360 with 1 Axes>"
            ],
            "image/png": "[encoded data removed]"
          },
          "metadata": {
            "needs_background": "light"
          }
        },
        {
          "output_type": "display_data",
          "data": {
            "text/plain": [
              "<Figure size 360x360 with 1 Axes>"
            ],
            "image/png": "[encoded data removed]"
          },
          "metadata": {
            "needs_background": "light"
          }
        },
        {
          "output_type": "display_data",
          "data": {
            "text/plain": [
              "<Figure size 360x360 with 1 Axes>"
            ],
            "image/png": "[encoded data removed]"
          },
          "metadata": {
            "needs_background": "light"
          }
        }
      ]
    },
    {
      "cell_type": "code",
      "source": [
        "for i in list: \n",
        "  zscore=stats.zscore(df[i])\n",
        "  filter=((zscore > -1) & (zscore < 2))\n",
        "  newdf=df[filter]\n",
        "  newdf.tail()\n",
        "  sns.catplot(x=i,kind='box',data=newdf)"
      ],
      "metadata": {
        "id": "VDZbkzph1tpW",
        "colab": {
          "base_uri": "https://localhost:8080/",
          "height": 1000
        },
        "outputId": "0d948877-33b3-4bd3-90b3-e03ef9ee2a04"
      },
      "execution_count": 50,
      "outputs": [
        {
          "output_type": "display_data",
          "data": {
            "text/plain": [
              "<Figure size 360x360 with 1 Axes>"
            ],
            "image/png": "[encoded data removed]"
          },
          "metadata": {
            "needs_background": "light"
          }
        },
        {
          "output_type": "display_data",
          "data": {
            "text/plain": [
              "<Figure size 360x360 with 1 Axes>"
            ],
            "image/png": "[encoded data removed]"
          },
          "metadata": {
            "needs_background": "light"
          }
        },
        {
          "output_type": "display_data",
          "data": {
            "text/plain": [
              "<Figure size 360x360 with 1 Axes>"
            ],
            "image/png": "[encoded data removed]"
          },
          "metadata": {
            "needs_background": "light"
          }
        },
        {
          "output_type": "display_data",
          "data": {
            "text/plain": [
              "<Figure size 360x360 with 1 Axes>"
            ],
            "image/png": "[encoded data removed]"
          },
          "metadata": {
            "needs_background": "light"
          }
        },
        {
          "output_type": "display_data",
          "data": {
            "text/plain": [
              "<Figure size 360x360 with 1 Axes>"
            ],
            "image/png": "[encoded data removed]"
          },
          "metadata": {
            "needs_background": "light"
          }
        },
        {
          "output_type": "display_data",
          "data": {
            "text/plain": [
              "<Figure size 360x360 with 1 Axes>"
            ],
            "image/png": "[encoded data removed]"
          },
          "metadata": {
            "needs_background": "light"
          }
        },
        {
          "output_type": "display_data",
          "data": {
            "text/plain": [
              "<Figure size 360x360 with 1 Axes>"
            ],
            "image/png": "[encoded data removed]"
          },
          "metadata": {
            "needs_background": "light"
          }
        },
        {
          "output_type": "display_data",
          "data": {
            "text/plain": [
              "<Figure size 360x360 with 1 Axes>"
            ],
            "image/png": "[encoded data removed]"
          },
          "metadata": {
            "needs_background": "light"
          }
        },
        {
          "output_type": "display_data",
          "data": {
            "text/plain": [
              "<Figure size 360x360 with 1 Axes>"
            ],
            "image/png": "[encoded data removed]"
          },
          "metadata": {
            "needs_background": "light"
          }
        },
        {
          "output_type": "display_data",
          "data": {
            "text/plain": [
              "<Figure size 360x360 with 1 Axes>"
            ],
            "image/png": "[encoded data removed]"
          },
          "metadata": {
            "needs_background": "light"
          }
        }
      ]
    },
    {
      "cell_type": "markdown",
      "source": [
        "Regression"
      ],
      "metadata": {
        "id": "r-5wsHk_8dVm"
      }
    },
    {
      "cell_type": "code",
      "source": [
        "import pandas as pd\n",
        "import numpy as np\n",
        "import sklearn as sk\n",
        "from sklearn.svm import SVC\n",
        "from sklearn.preprocessing import LabelEncoder\n",
        "from sklearn.metrics import confusion_matrix\n",
        "import matplotlib.pyplot as plt\n",
        "import seaborn as sns\n",
        "from scipy.cluster.hierarchy import dendrogram, linkage\n",
        "from sklearn.cluster import AgglomerativeClustering\n",
        "from sklearn.metrics import silhouette_score, davies_bouldin_score\n",
        "df = pd.read_csv('/content/drive/MyDrive/Colab Notebooks/8.csv')\n",
        "df.head(10)"
      ],
      "metadata": {
        "id": "UGIrZxGa8dGA",
        "colab": {
          "base_uri": "https://localhost:8080/",
          "height": 363
        },
        "outputId": "9b43be0b-8d41-47ac-d7c1-3ac8340e9c34"
      },
      "execution_count": 39,
      "outputs": [
        {
          "output_type": "execute_result",
          "data": {
            "text/plain": [
              "      School Type            India/ State/ UTs  2001  2002  2003  2004  2005  \\\n",
              "0  Primary School  Andaman and Nicobar Islands  1.00  0.95  0.95  0.98  1.00   \n",
              "1  Primary School               Andhra Pradesh  0.99  1.01  1.01  1.01  1.01   \n",
              "2  Primary School            Arunachal Pradesh  0.83  0.88  0.90  0.89  0.90   \n",
              "3  Primary School                        Assam  0.84  0.97  1.00  0.99  1.00   \n",
              "4  Primary School                        Bihar  0.64  0.81  0.80  0.75  0.75   \n",
              "5  Primary School                   Chandigarh  0.97  0.98  0.98  0.90  0.87   \n",
              "6  Primary School                 Chhattisgarh  0.87  0.95  0.99  0.94  0.77   \n",
              "7  Primary School       Dadra and Nagar Haveli  0.72  0.86  0.88  0.93  0.96   \n",
              "8  Primary School                Daman and Diu  0.81  0.96  0.99  0.88  0.87   \n",
              "9  Primary School                        Delhi  0.95  1.03  0.99  1.11  1.04   \n",
              "\n",
              "   2006  2007  2008  2009  2010  \n",
              "0  1.02  1.06  1.00  0.98  0.97  \n",
              "1  1.00  1.00  1.01  1.00  1.00  \n",
              "2  0.90  0.92  0.95  0.96  0.96  \n",
              "3  1.02  1.00  1.00  1.03  1.03  \n",
              "4  0.77  0.82  0.84  0.87  0.94  \n",
              "5  0.83  0.87  0.98  0.99  0.99  \n",
              "6  0.94  0.95  0.95  0.95  0.96  \n",
              "7  0.98  1.01  1.08  1.05  1.03  \n",
              "8  0.92  0.86  1.02  1.04  1.08  \n",
              "9  1.00  1.02  1.02  1.02  1.03  "
            ],
            "text/html": [
              "\n",
              "  <div id=\"df-79b1e0b9-fdb1-42f9-83c9-74bf3b9faba3\">\n",
              "    <div class=\"colab-df-container\">\n",
              "      <div>\n",
              "<style scoped>\n",
              "    .dataframe tbody tr th:only-of-type {\n",
              "        vertical-align: middle;\n",
              "    }\n",
              "\n",
              "    .dataframe tbody tr th {\n",
              "        vertical-align: top;\n",
              "    }\n",
              "\n",
              "    .dataframe thead th {\n",
              "        text-align: right;\n",
              "    }\n",
              "</style>\n",
              "<table border=\"1\" class=\"dataframe\">\n",
              "  <thead>\n",
              "    <tr style=\"text-align: right;\">\n",
              "      <th></th>\n",
              "      <th>School Type</th>\n",
              "      <th>India/ State/ UTs</th>\n",
              "      <th>2001</th>\n",
              "      <th>2002</th>\n",
              "      <th>2003</th>\n",
              "      <th>2004</th>\n",
              "      <th>2005</th>\n",
              "      <th>2006</th>\n",
              "      <th>2007</th>\n",
              "      <th>2008</th>\n",
              "      <th>2009</th>\n",
              "      <th>2010</th>\n",
              "    </tr>\n",
              "  </thead>\n",
              "  <tbody>\n",
              "    <tr>\n",
              "      <th>0</th>\n",
              "      <td>Primary School</td>\n",
              "      <td>Andaman and Nicobar Islands</td>\n",
              "      <td>1.00</td>\n",
              "      <td>0.95</td>\n",
              "      <td>0.95</td>\n",
              "      <td>0.98</td>\n",
              "      <td>1.00</td>\n",
              "      <td>1.02</td>\n",
              "      <td>1.06</td>\n",
              "      <td>1.00</td>\n",
              "      <td>0.98</td>\n",
              "      <td>0.97</td>\n",
              "    </tr>\n",
              "    <tr>\n",
              "      <th>1</th>\n",
              "      <td>Primary School</td>\n",
              "      <td>Andhra Pradesh</td>\n",
              "      <td>0.99</td>\n",
              "      <td>1.01</td>\n",
              "      <td>1.01</td>\n",
              "      <td>1.01</td>\n",
              "      <td>1.01</td>\n",
              "      <td>1.00</td>\n",
              "      <td>1.00</td>\n",
              "      <td>1.01</td>\n",
              "      <td>1.00</td>\n",
              "      <td>1.00</td>\n",
              "    </tr>\n",
              "    <tr>\n",
              "      <th>2</th>\n",
              "      <td>Primary School</td>\n",
              "      <td>Arunachal Pradesh</td>\n",
              "      <td>0.83</td>\n",
              "      <td>0.88</td>\n",
              "      <td>0.90</td>\n",
              "      <td>0.89</td>\n",
              "      <td>0.90</td>\n",
              "      <td>0.90</td>\n",
              "      <td>0.92</td>\n",
              "      <td>0.95</td>\n",
              "      <td>0.96</td>\n",
              "      <td>0.96</td>\n",
              "    </tr>\n",
              "    <tr>\n",
              "      <th>3</th>\n",
              "      <td>Primary School</td>\n",
              "      <td>Assam</td>\n",
              "      <td>0.84</td>\n",
              "      <td>0.97</td>\n",
              "      <td>1.00</td>\n",
              "      <td>0.99</td>\n",
              "      <td>1.00</td>\n",
              "      <td>1.02</td>\n",
              "      <td>1.00</td>\n",
              "      <td>1.00</td>\n",
              "      <td>1.03</td>\n",
              "      <td>1.03</td>\n",
              "    </tr>\n",
              "    <tr>\n",
              "      <th>4</th>\n",
              "      <td>Primary School</td>\n",
              "      <td>Bihar</td>\n",
              "      <td>0.64</td>\n",
              "      <td>0.81</td>\n",
              "      <td>0.80</td>\n",
              "      <td>0.75</td>\n",
              "      <td>0.75</td>\n",
              "      <td>0.77</td>\n",
              "      <td>0.82</td>\n",
              "      <td>0.84</td>\n",
              "      <td>0.87</td>\n",
              "      <td>0.94</td>\n",
              "    </tr>\n",
              "    <tr>\n",
              "      <th>5</th>\n",
              "      <td>Primary School</td>\n",
              "      <td>Chandigarh</td>\n",
              "      <td>0.97</td>\n",
              "      <td>0.98</td>\n",
              "      <td>0.98</td>\n",
              "      <td>0.90</td>\n",
              "      <td>0.87</td>\n",
              "      <td>0.83</td>\n",
              "      <td>0.87</td>\n",
              "      <td>0.98</td>\n",
              "      <td>0.99</td>\n",
              "      <td>0.99</td>\n",
              "    </tr>\n",
              "    <tr>\n",
              "      <th>6</th>\n",
              "      <td>Primary School</td>\n",
              "      <td>Chhattisgarh</td>\n",
              "      <td>0.87</td>\n",
              "      <td>0.95</td>\n",
              "      <td>0.99</td>\n",
              "      <td>0.94</td>\n",
              "      <td>0.77</td>\n",
              "      <td>0.94</td>\n",
              "      <td>0.95</td>\n",
              "      <td>0.95</td>\n",
              "      <td>0.95</td>\n",
              "      <td>0.96</td>\n",
              "    </tr>\n",
              "    <tr>\n",
              "      <th>7</th>\n",
              "      <td>Primary School</td>\n",
              "      <td>Dadra and Nagar Haveli</td>\n",
              "      <td>0.72</td>\n",
              "      <td>0.86</td>\n",
              "      <td>0.88</td>\n",
              "      <td>0.93</td>\n",
              "      <td>0.96</td>\n",
              "      <td>0.98</td>\n",
              "      <td>1.01</td>\n",
              "      <td>1.08</td>\n",
              "      <td>1.05</td>\n",
              "      <td>1.03</td>\n",
              "    </tr>\n",
              "    <tr>\n",
              "      <th>8</th>\n",
              "      <td>Primary School</td>\n",
              "      <td>Daman and Diu</td>\n",
              "      <td>0.81</td>\n",
              "      <td>0.96</td>\n",
              "      <td>0.99</td>\n",
              "      <td>0.88</td>\n",
              "      <td>0.87</td>\n",
              "      <td>0.92</td>\n",
              "      <td>0.86</td>\n",
              "      <td>1.02</td>\n",
              "      <td>1.04</td>\n",
              "      <td>1.08</td>\n",
              "    </tr>\n",
              "    <tr>\n",
              "      <th>9</th>\n",
              "      <td>Primary School</td>\n",
              "      <td>Delhi</td>\n",
              "      <td>0.95</td>\n",
              "      <td>1.03</td>\n",
              "      <td>0.99</td>\n",
              "      <td>1.11</td>\n",
              "      <td>1.04</td>\n",
              "      <td>1.00</td>\n",
              "      <td>1.02</td>\n",
              "      <td>1.02</td>\n",
              "      <td>1.02</td>\n",
              "      <td>1.03</td>\n",
              "    </tr>\n",
              "  </tbody>\n",
              "</table>\n",
              "</div>\n",
              "      <button class=\"colab-df-convert\" onclick=\"convertToInteractive('df-79b1e0b9-fdb1-42f9-83c9-74bf3b9faba3')\"\n",
              "              title=\"Convert this dataframe to an interactive table.\"\n",
              "              style=\"display:none;\">\n",
              "        \n",
              "  <svg xmlns=\"http://www.w3.org/2000/svg\" height=\"24px\"viewBox=\"0 0 24 24\"\n",
              "       width=\"24px\">\n",
              "    <path d=\"M0 0h24v24H0V0z\" fill=\"none\"/>\n",
              "    <path d=\"M18.56 5.44l.94 2.06.94-2.06 2.06-.94-2.06-.94-.94-2.06-.94 2.06-2.06.94zm-11 1L8.5 8.5l.94-2.06 2.06-.94-2.06-.94L8.5 2.5l-.94 2.06-2.06.94zm10 10l.94 2.06.94-2.06 2.06-.94-2.06-.94-.94-2.06-.94 2.06-2.06.94z\"/><path d=\"M17.41 7.96l-1.37-1.37c-.4-.4-.92-.59-1.43-.59-.52 0-1.04.2-1.43.59L10.3 9.45l-7.72 7.72c-.78.78-.78 2.05 0 2.83L4 21.41c.39.39.9.59 1.41.59.51 0 1.02-.2 1.41-.59l7.78-7.78 2.81-2.81c.8-.78.8-2.07 0-2.86zM5.41 20L4 18.59l7.72-7.72 1.47 1.35L5.41 20z\"/>\n",
              "  </svg>\n",
              "      </button>\n",
              "      \n",
              "  <style>\n",
              "    .colab-df-container {\n",
              "      display:flex;\n",
              "      flex-wrap:wrap;\n",
              "      gap: 12px;\n",
              "    }\n",
              "\n",
              "    .colab-df-convert {\n",
              "      background-color: #E8F0FE;\n",
              "      border: none;\n",
              "      border-radius: 50%;\n",
              "      cursor: pointer;\n",
              "      display: none;\n",
              "      fill: #1967D2;\n",
              "      height: 32px;\n",
              "      padding: 0 0 0 0;\n",
              "      width: 32px;\n",
              "    }\n",
              "\n",
              "    .colab-df-convert:hover {\n",
              "      background-color: #E2EBFA;\n",
              "      box-shadow: 0px 1px 2px rgba(60, 64, 67, 0.3), 0px 1px 3px 1px rgba(60, 64, 67, 0.15);\n",
              "      fill: #174EA6;\n",
              "    }\n",
              "\n",
              "    [theme=dark] .colab-df-convert {\n",
              "      background-color: #3B4455;\n",
              "      fill: #D2E3FC;\n",
              "    }\n",
              "\n",
              "    [theme=dark] .colab-df-convert:hover {\n",
              "      background-color: #434B5C;\n",
              "      box-shadow: 0px 1px 3px 1px rgba(0, 0, 0, 0.15);\n",
              "      filter: drop-shadow(0px 1px 2px rgba(0, 0, 0, 0.3));\n",
              "      fill: #FFFFFF;\n",
              "    }\n",
              "  </style>\n",
              "\n",
              "      <script>\n",
              "        const buttonEl =\n",
              "          document.querySelector('#df-79b1e0b9-fdb1-42f9-83c9-74bf3b9faba3 button.colab-df-convert');\n",
              "        buttonEl.style.display =\n",
              "          google.colab.kernel.accessAllowed ? 'block' : 'none';\n",
              "\n",
              "        async function convertToInteractive(key) {\n",
              "          const element = document.querySelector('#df-79b1e0b9-fdb1-42f9-83c9-74bf3b9faba3');\n",
              "          const dataTable =\n",
              "            await google.colab.kernel.invokeFunction('convertToInteractive',\n",
              "                                                     [key], {});\n",
              "          if (!dataTable) return;\n",
              "\n",
              "          const docLinkHtml = 'Like what you see? Visit the ' +\n",
              "            '<a target=\"_blank\" href=https://colab.research.google.com/notebooks/data_table.ipynb>data table notebook</a>'\n",
              "            + ' to learn more about interactive tables.';\n",
              "          element.innerHTML = '';\n",
              "          dataTable['output_type'] = 'display_data';\n",
              "          await google.colab.output.renderOutput(dataTable, element);\n",
              "          const docLink = document.createElement('div');\n",
              "          docLink.innerHTML = docLinkHtml;\n",
              "          element.appendChild(docLink);\n",
              "        }\n",
              "      </script>\n",
              "    </div>\n",
              "  </div>\n",
              "  "
            ]
          },
          "metadata": {},
          "execution_count": 39
        }
      ]
    },
    {
      "cell_type": "code",
      "source": [
        "df.isnull().sum()"
      ],
      "metadata": {
        "id": "n5JtO6NLJQhF",
        "colab": {
          "base_uri": "https://localhost:8080/"
        },
        "outputId": "afcfcca9-f890-4629-d88a-95a0ce668248"
      },
      "execution_count": 44,
      "outputs": [
        {
          "output_type": "execute_result",
          "data": {
            "text/plain": [
              "School Type          0\n",
              "India/ State/ UTs    0\n",
              "2001                 0\n",
              "2002                 0\n",
              "2003                 0\n",
              "2004                 0\n",
              "2005                 0\n",
              "2006                 0\n",
              "2007                 0\n",
              "2008                 0\n",
              "2009                 0\n",
              "2010                 0\n",
              "dtype: int64"
            ]
          },
          "metadata": {},
          "execution_count": 44
        }
      ]
    },
    {
      "cell_type": "code",
      "source": [
        "# featureset = df[['Latitude','Longitude','Altitude','min Temo','Max Temp','Sunshine Hour','Solar Radiation']]\n",
        "# from sklearn.preprocessing import MinMaxScaler\n",
        "# x = featureset.values #returns a numpy array\n",
        "# min_max_scaler = MinMaxScaler()\n",
        "# feature_mtx = min_max_scaler.fit_transform(x)\n",
        "# feature_mtx [0:5]\n",
        "\n",
        "# from scipy.spatial import distance_matrix\n",
        "# dist_matrix = distance_matrix(feature_mtx,feature_mtx)\n",
        "# print(dist_matrix)\n"
      ],
      "metadata": {
        "id": "vcaFA2soJgD7"
      },
      "execution_count": null,
      "outputs": []
    },
    {
      "cell_type": "markdown",
      "source": [
        "Data Visulaization"
      ],
      "metadata": {
        "id": "3dxzXN8p2NBH"
      }
    },
    {
      "cell_type": "code",
      "source": [
        "row1 = df.loc[1,['2001','2002','2003','2004','2005','2006','2007','2008','2009','2010']]\n",
        "\n",
        "# plot the selected row\n",
        "plt.plot(row1)"
      ],
      "metadata": {
        "colab": {
          "base_uri": "https://localhost:8080/",
          "height": 282
        },
        "id": "-n4xJtDes3PP",
        "outputId": "0d58c30a-7b6e-416b-b95a-e395e4217820"
      },
      "execution_count": 54,
      "outputs": [
        {
          "output_type": "execute_result",
          "data": {
            "text/plain": [
              "[<matplotlib.lines.Line2D at 0x7fadbc0629d0>]"
            ]
          },
          "metadata": {},
          "execution_count": 54
        },
        {
          "output_type": "display_data",
          "data": {
            "text/plain": [
              "<Figure size 432x288 with 1 Axes>"
            ],
            "image/png": "[encoded data removed]"
          },
          "metadata": {
            "needs_background": "light"
          }
        }
      ]
    },
    {
      "cell_type": "code",
      "source": [
        "row2 = df.loc[2,['2001','2002','2003','2004','2005','2006','2007','2008','2009','2010']]\n",
        "\n",
        "# plot the selected row\n",
        "plt.plot(row2)"
      ],
      "metadata": {
        "colab": {
          "base_uri": "https://localhost:8080/",
          "height": 282
        },
        "id": "HW8j68Kfu7oj",
        "outputId": "e6052f09-0ece-4c55-a239-5a5d9c7038c2"
      },
      "execution_count": 56,
      "outputs": [
        {
          "output_type": "execute_result",
          "data": {
            "text/plain": [
              "[<matplotlib.lines.Line2D at 0x7fadbc2d32b0>]"
            ]
          },
          "metadata": {},
          "execution_count": 56
        },
        {
          "output_type": "display_data",
          "data": {
            "text/plain": [
              "<Figure size 432x288 with 1 Axes>"
            ],
            "image/png": "[encoded data removed]"
          },
          "metadata": {
            "needs_background": "light"
          }
        }
      ]
    },
    {
      "cell_type": "code",
      "source": [
        "row3 = df.loc[3,['2001','2002','2003','2004','2005','2006','2007','2008','2009','2010']]\n",
        "\n",
        "# plot the selected row\n",
        "plt.plot(row3)"
      ],
      "metadata": {
        "colab": {
          "base_uri": "https://localhost:8080/",
          "height": 282
        },
        "id": "SVQ8wUfZvFa3",
        "outputId": "7e3d3a2a-39f3-42c8-ca9a-1542ac5688e3"
      },
      "execution_count": 57,
      "outputs": [
        {
          "output_type": "execute_result",
          "data": {
            "text/plain": [
              "[<matplotlib.lines.Line2D at 0x7fadbba57730>]"
            ]
          },
          "metadata": {},
          "execution_count": 57
        },
        {
          "output_type": "display_data",
          "data": {
            "text/plain": [
              "<Figure size 432x288 with 1 Axes>"
            ],
            "image/png": "[encoded data removed]"
          },
          "metadata": {
            "needs_background": "light"
          }
        }
      ]
    },
    {
      "cell_type": "code",
      "source": [
        "import seaborn as sns\n",
        "import matplotlib.pyplot as plt\n",
        "import pandas as pd\n",
        "\n",
        "df = pd.read_csv('/content/drive/MyDrive/Colab Notebooks/8.csv')\n",
        "\n",
        "corr_matrix = df.corr()\n",
        "\n",
        "sns.heatmap(corr_matrix, annot=True)\n",
        "\n",
        "# Show the plot\n",
        "plt.show()"
      ],
      "metadata": {
        "colab": {
          "base_uri": "https://localhost:8080/",
          "height": 269
        },
        "id": "x0i7N8ygvaAC",
        "outputId": "b798b6f9-6bed-4a56-bfda-341cf2683976"
      },
      "execution_count": 73,
      "outputs": [
        {
          "output_type": "display_data",
          "data": {
            "text/plain": [
              "<Figure size 432x288 with 2 Axes>"
            ],
            "image/png": "[encoded data removed]"
          },
          "metadata": {
            "needs_background": "light"
          }
        }
      ]
    },
    {
      "cell_type": "code",
      "source": [
        "import pandas as pd\n",
        "print (df)\n"
      ],
      "metadata": {
        "id": "YhBMzsJR2HBD"
      },
      "execution_count": null,
      "outputs": []
    },
    {
      "cell_type": "code",
      "source": [
        "path = 'drive/My Drive/Colab Notebooks/8.csv'\n",
        "import pandas as pd\n",
        "df1 = pd.read_csv(path)\n",
        "df1.rename(columns={'India/ State/ UTs':'States'},inplace=True)\n",
        "df1"
      ],
      "metadata": {
        "id": "9dvFN-ir3zTr"
      },
      "execution_count": null,
      "outputs": []
    },
    {
      "cell_type": "code",
      "source": [
        "df.isnull().sum()"
      ],
      "metadata": {
        "id": "Jfar1le9JWVL"
      },
      "execution_count": null,
      "outputs": []
    },
    {
      "cell_type": "code",
      "source": [
        "import matplotlib.pyplot as plt\n",
        "import seaborn as sns\n",
        "plt.figure(figsize=(12,5))\n",
        "df = sns.load_dataset('8.csv')\n",
        "sns.barplot(x = 'states',y = '2001',data = df)"
      ],
      "metadata": {
        "id": "XftRibBaDxHR"
      },
      "execution_count": null,
      "outputs": []
    },
    {
      "cell_type": "code",
      "source": [
        "import seaborn as sns\n",
        "t=df[['2001','2002','2003']]\n",
        "c=t.corr()\n",
        "sns.heatmap(c,xticklabels=c.columns,annot=True)"
      ],
      "metadata": {
        "id": "O9dZjxgnm9Lc"
      },
      "execution_count": null,
      "outputs": []
    },
    {
      "cell_type": "code",
      "source": [
        "import pandas as pd\n",
        "import seaborn as sns\n",
        "import matplotlib.pyplot as plt\n",
        "\n",
        "# create a pandas DataFrame from the given data\n",
        "data = {#'School Type': ['Primary School']*10,\n",
        "        'India/ State/ UTs': ['Andaman and Nicobar Islands', 'Andhra Pradesh', 'Arunachal Pradesh', 'Assam', 'Bihar', 'Chandigarh', 'Chhattisgarh', 'Dadra and Nagar Haveli', 'Daman and Diu', 'Delhi'],\n",
        "        '2001': [1, 0.99, 0.83, 0.84, 0.64, 0.97, 0.87, 0.72, 0.81, 0.95],\n",
        "        '2002': [0.95, 1.01, 0.88, 0.97, 0.81, 0.98, 0.95, 0.86, 0.96, 1.03],\n",
        "        '2003': [0.95, 1.01, 0.9, 1, 0.8, 0.98, 0.99, 0.88, 0.99, 0.99],\n",
        "        '2004': [0.98, 1.01, 0.89, 0.99, 0.75, 0.9, 0.94, 0.93, 0.88, 1.11],\n",
        "        '2005': [1, 1.01, 0.9, 1, 0.75, 0.87, 0.77, 0.96, 0.87, 1.04],\n",
        "        '2006': [1.02, 1, 0.9, 1.02, 0.77, 0.83, 0.94, 0.98, 0.92, 1],\n",
        "        '2007': [1.06, 1, 0.92, 1, 0.82, 0.87, 0.95, 1.01, 0.86, 1.02],\n",
        "        '2008': [1, 1.01, 0.95, 1, 0.84, 0.98, 0.95, 1.08, 1.02, 1.02],\n",
        "        '2009': [0.98, 1, 0.96, 1.03, 0.87, 0.99, 0.95, 1.05, 1.04, 1.02],\n",
        "        '2010': [0.97, 1, 0.96, 1.03, 0.94, 0.99, 0.96, 1.03, 1.08, 1.03]}\n",
        "df = pd.DataFrame(data)\n",
        "\n",
        "# set the index to be the 'India/ State/ UTs' column\n",
        "df.set_index('India/ State/ UTs', inplace=True)\n",
        "\n",
        "# create the heatmap\n",
        "sns.heatmap(df, cmap='coolwarm')\n",
        "\n",
        "# set the title and axis labels\n",
        "plt.title('Primary School Enrollment Rates by State/ UT in India (2001-2010)')\n",
        "plt.xlabel('Year')\n",
        "plt.ylabel('State/ UT')\n",
        "\n",
        "\n",
        "\n",
        "\n"
      ],
      "metadata": {
        "id": "6g2BGnYUnLOc",
        "colab": {
          "base_uri": "https://localhost:8080/",
          "height": 312
        },
        "outputId": "31d4878d-cacc-4e52-fcd1-537ffb299298"
      },
      "execution_count": 81,
      "outputs": [
        {
          "output_type": "execute_result",
          "data": {
            "text/plain": [
              "Text(32.99999999999999, 0.5, 'State/ UT')"
            ]
          },
          "metadata": {},
          "execution_count": 81
        },
        {
          "output_type": "display_data",
          "data": {
            "text/plain": [
              "<Figure size 432x288 with 2 Axes>"
            ],
            "image/png": "[encoded data removed]"
          },
          "metadata": {
            "needs_background": "light"
          }
        }
      ]
    },
    {
      "cell_type": "markdown",
      "source": [
        "Performance Analysis"
      ],
      "metadata": {
        "id": "8Y4MCxO5xGDC"
      }
    },
    {
      "cell_type": "code",
      "source": [
        "import pandas as pd\n",
        "from google.colab import drive\n",
        "drive.mount('/content/drive', force_remount = True)\n",
        "path = \"drive/My Drive/Colab Notebooks/8.csv\"\n",
        "df = pd.read_csv(path)\n",
        "df"
      ],
      "metadata": {
        "colab": {
          "base_uri": "https://localhost:8080/",
          "height": 441
        },
        "id": "sL6nB9xMxILd",
        "outputId": "52d6892b-ec05-4ae5-c897-efc42a5877ff"
      },
      "execution_count": 82,
      "outputs": [
        {
          "output_type": "stream",
          "name": "stdout",
          "text": [
            "Mounted at /content/drive\n"
          ]
        },
        {
          "output_type": "execute_result",
          "data": {
            "text/plain": [
              "             School Type            India/ State/ UTs  2001  2002  2003  2004  \\\n",
              "0         Primary School  Andaman and Nicobar Islands  1.00  0.95  0.95  0.98   \n",
              "1         Primary School               Andhra Pradesh  0.99  1.01  1.01  1.01   \n",
              "2         Primary School            Arunachal Pradesh  0.83  0.88  0.90  0.89   \n",
              "3         Primary School                        Assam  0.84  0.97  1.00  0.99   \n",
              "4         Primary School                        Bihar  0.64  0.81  0.80  0.75   \n",
              "..                   ...                          ...   ...   ...   ...   ...   \n",
              "66  Upper Primary School                   Tamil Nadu  0.98  0.98  0.96  0.96   \n",
              "67  Upper Primary School                      Tripura  0.87  0.94  0.93  0.94   \n",
              "68  Upper Primary School                Uttar Pradesh  0.50  0.80  0.80  0.80   \n",
              "69  Upper Primary School                  Uttarakhand  0.95  0.93  0.98  1.00   \n",
              "70  Upper Primary School                  West Bengal  0.78  0.92  0.95  0.91   \n",
              "\n",
              "    2005  2006  2007  2008  2009  2010  \n",
              "0   1.00  1.02  1.06  1.00  0.98  0.97  \n",
              "1   1.01  1.00  1.00  1.01  1.00  1.00  \n",
              "2   0.90  0.90  0.92  0.95  0.96  0.96  \n",
              "3   1.00  1.02  1.00  1.00  1.03  1.03  \n",
              "4   0.75  0.77  0.82  0.84  0.87  0.94  \n",
              "..   ...   ...   ...   ...   ...   ...  \n",
              "66  0.97  0.98  0.97  0.97  0.98  0.99  \n",
              "67  0.99  1.00  1.00  0.99  1.00  0.99  \n",
              "68  0.79  0.79  0.90  0.90  0.89  0.90  \n",
              "69  1.01  1.02  1.04  1.07  1.07  1.07  \n",
              "70  0.88  1.03  1.03  1.03  1.08  1.04  \n",
              "\n",
              "[71 rows x 12 columns]"
            ],
            "text/html": [
              "\n",
              "  <div id=\"df-d1bedc47-d603-49ec-8c56-9275eeb45165\">\n",
              "    <div class=\"colab-df-container\">\n",
              "      <div>\n",
              "<style scoped>\n",
              "    .dataframe tbody tr th:only-of-type {\n",
              "        vertical-align: middle;\n",
              "    }\n",
              "\n",
              "    .dataframe tbody tr th {\n",
              "        vertical-align: top;\n",
              "    }\n",
              "\n",
              "    .dataframe thead th {\n",
              "        text-align: right;\n",
              "    }\n",
              "</style>\n",
              "<table border=\"1\" class=\"dataframe\">\n",
              "  <thead>\n",
              "    <tr style=\"text-align: right;\">\n",
              "      <th></th>\n",
              "      <th>School Type</th>\n",
              "      <th>India/ State/ UTs</th>\n",
              "      <th>2001</th>\n",
              "      <th>2002</th>\n",
              "      <th>2003</th>\n",
              "      <th>2004</th>\n",
              "      <th>2005</th>\n",
              "      <th>2006</th>\n",
              "      <th>2007</th>\n",
              "      <th>2008</th>\n",
              "      <th>2009</th>\n",
              "      <th>2010</th>\n",
              "    </tr>\n",
              "  </thead>\n",
              "  <tbody>\n",
              "    <tr>\n",
              "      <th>0</th>\n",
              "      <td>Primary School</td>\n",
              "      <td>Andaman and Nicobar Islands</td>\n",
              "      <td>1.00</td>\n",
              "      <td>0.95</td>\n",
              "      <td>0.95</td>\n",
              "      <td>0.98</td>\n",
              "      <td>1.00</td>\n",
              "      <td>1.02</td>\n",
              "      <td>1.06</td>\n",
              "      <td>1.00</td>\n",
              "      <td>0.98</td>\n",
              "      <td>0.97</td>\n",
              "    </tr>\n",
              "    <tr>\n",
              "      <th>1</th>\n",
              "      <td>Primary School</td>\n",
              "      <td>Andhra Pradesh</td>\n",
              "      <td>0.99</td>\n",
              "      <td>1.01</td>\n",
              "      <td>1.01</td>\n",
              "      <td>1.01</td>\n",
              "      <td>1.01</td>\n",
              "      <td>1.00</td>\n",
              "      <td>1.00</td>\n",
              "      <td>1.01</td>\n",
              "      <td>1.00</td>\n",
              "      <td>1.00</td>\n",
              "    </tr>\n",
              "    <tr>\n",
              "      <th>2</th>\n",
              "      <td>Primary School</td>\n",
              "      <td>Arunachal Pradesh</td>\n",
              "      <td>0.83</td>\n",
              "      <td>0.88</td>\n",
              "      <td>0.90</td>\n",
              "      <td>0.89</td>\n",
              "      <td>0.90</td>\n",
              "      <td>0.90</td>\n",
              "      <td>0.92</td>\n",
              "      <td>0.95</td>\n",
              "      <td>0.96</td>\n",
              "      <td>0.96</td>\n",
              "    </tr>\n",
              "    <tr>\n",
              "      <th>3</th>\n",
              "      <td>Primary School</td>\n",
              "      <td>Assam</td>\n",
              "      <td>0.84</td>\n",
              "      <td>0.97</td>\n",
              "      <td>1.00</td>\n",
              "      <td>0.99</td>\n",
              "      <td>1.00</td>\n",
              "      <td>1.02</td>\n",
              "      <td>1.00</td>\n",
              "      <td>1.00</td>\n",
              "      <td>1.03</td>\n",
              "      <td>1.03</td>\n",
              "    </tr>\n",
              "    <tr>\n",
              "      <th>4</th>\n",
              "      <td>Primary School</td>\n",
              "      <td>Bihar</td>\n",
              "      <td>0.64</td>\n",
              "      <td>0.81</td>\n",
              "      <td>0.80</td>\n",
              "      <td>0.75</td>\n",
              "      <td>0.75</td>\n",
              "      <td>0.77</td>\n",
              "      <td>0.82</td>\n",
              "      <td>0.84</td>\n",
              "      <td>0.87</td>\n",
              "      <td>0.94</td>\n",
              "    </tr>\n",
              "    <tr>\n",
              "      <th>...</th>\n",
              "      <td>...</td>\n",
              "      <td>...</td>\n",
              "      <td>...</td>\n",
              "      <td>...</td>\n",
              "      <td>...</td>\n",
              "      <td>...</td>\n",
              "      <td>...</td>\n",
              "      <td>...</td>\n",
              "      <td>...</td>\n",
              "      <td>...</td>\n",
              "      <td>...</td>\n",
              "      <td>...</td>\n",
              "    </tr>\n",
              "    <tr>\n",
              "      <th>66</th>\n",
              "      <td>Upper Primary School</td>\n",
              "      <td>Tamil Nadu</td>\n",
              "      <td>0.98</td>\n",
              "      <td>0.98</td>\n",
              "      <td>0.96</td>\n",
              "      <td>0.96</td>\n",
              "      <td>0.97</td>\n",
              "      <td>0.98</td>\n",
              "      <td>0.97</td>\n",
              "      <td>0.97</td>\n",
              "      <td>0.98</td>\n",
              "      <td>0.99</td>\n",
              "    </tr>\n",
              "    <tr>\n",
              "      <th>67</th>\n",
              "      <td>Upper Primary School</td>\n",
              "      <td>Tripura</td>\n",
              "      <td>0.87</td>\n",
              "      <td>0.94</td>\n",
              "      <td>0.93</td>\n",
              "      <td>0.94</td>\n",
              "      <td>0.99</td>\n",
              "      <td>1.00</td>\n",
              "      <td>1.00</td>\n",
              "      <td>0.99</td>\n",
              "      <td>1.00</td>\n",
              "      <td>0.99</td>\n",
              "    </tr>\n",
              "    <tr>\n",
              "      <th>68</th>\n",
              "      <td>Upper Primary School</td>\n",
              "      <td>Uttar Pradesh</td>\n",
              "      <td>0.50</td>\n",
              "      <td>0.80</td>\n",
              "      <td>0.80</td>\n",
              "      <td>0.80</td>\n",
              "      <td>0.79</td>\n",
              "      <td>0.79</td>\n",
              "      <td>0.90</td>\n",
              "      <td>0.90</td>\n",
              "      <td>0.89</td>\n",
              "      <td>0.90</td>\n",
              "    </tr>\n",
              "    <tr>\n",
              "      <th>69</th>\n",
              "      <td>Upper Primary School</td>\n",
              "      <td>Uttarakhand</td>\n",
              "      <td>0.95</td>\n",
              "      <td>0.93</td>\n",
              "      <td>0.98</td>\n",
              "      <td>1.00</td>\n",
              "      <td>1.01</td>\n",
              "      <td>1.02</td>\n",
              "      <td>1.04</td>\n",
              "      <td>1.07</td>\n",
              "      <td>1.07</td>\n",
              "      <td>1.07</td>\n",
              "    </tr>\n",
              "    <tr>\n",
              "      <th>70</th>\n",
              "      <td>Upper Primary School</td>\n",
              "      <td>West Bengal</td>\n",
              "      <td>0.78</td>\n",
              "      <td>0.92</td>\n",
              "      <td>0.95</td>\n",
              "      <td>0.91</td>\n",
              "      <td>0.88</td>\n",
              "      <td>1.03</td>\n",
              "      <td>1.03</td>\n",
              "      <td>1.03</td>\n",
              "      <td>1.08</td>\n",
              "      <td>1.04</td>\n",
              "    </tr>\n",
              "  </tbody>\n",
              "</table>\n",
              "<p>71 rows × 12 columns</p>\n",
              "</div>\n",
              "      <button class=\"colab-df-convert\" onclick=\"convertToInteractive('df-d1bedc47-d603-49ec-8c56-9275eeb45165')\"\n",
              "              title=\"Convert this dataframe to an interactive table.\"\n",
              "              style=\"display:none;\">\n",
              "        \n",
              "  <svg xmlns=\"http://www.w3.org/2000/svg\" height=\"24px\"viewBox=\"0 0 24 24\"\n",
              "       width=\"24px\">\n",
              "    <path d=\"M0 0h24v24H0V0z\" fill=\"none\"/>\n",
              "    <path d=\"M18.56 5.44l.94 2.06.94-2.06 2.06-.94-2.06-.94-.94-2.06-.94 2.06-2.06.94zm-11 1L8.5 8.5l.94-2.06 2.06-.94-2.06-.94L8.5 2.5l-.94 2.06-2.06.94zm10 10l.94 2.06.94-2.06 2.06-.94-2.06-.94-.94-2.06-.94 2.06-2.06.94z\"/><path d=\"M17.41 7.96l-1.37-1.37c-.4-.4-.92-.59-1.43-.59-.52 0-1.04.2-1.43.59L10.3 9.45l-7.72 7.72c-.78.78-.78 2.05 0 2.83L4 21.41c.39.39.9.59 1.41.59.51 0 1.02-.2 1.41-.59l7.78-7.78 2.81-2.81c.8-.78.8-2.07 0-2.86zM5.41 20L4 18.59l7.72-7.72 1.47 1.35L5.41 20z\"/>\n",
              "  </svg>\n",
              "      </button>\n",
              "      \n",
              "  <style>\n",
              "    .colab-df-container {\n",
              "      display:flex;\n",
              "      flex-wrap:wrap;\n",
              "      gap: 12px;\n",
              "    }\n",
              "\n",
              "    .colab-df-convert {\n",
              "      background-color: #E8F0FE;\n",
              "      border: none;\n",
              "      border-radius: 50%;\n",
              "      cursor: pointer;\n",
              "      display: none;\n",
              "      fill: #1967D2;\n",
              "      height: 32px;\n",
              "      padding: 0 0 0 0;\n",
              "      width: 32px;\n",
              "    }\n",
              "\n",
              "    .colab-df-convert:hover {\n",
              "      background-color: #E2EBFA;\n",
              "      box-shadow: 0px 1px 2px rgba(60, 64, 67, 0.3), 0px 1px 3px 1px rgba(60, 64, 67, 0.15);\n",
              "      fill: #174EA6;\n",
              "    }\n",
              "\n",
              "    [theme=dark] .colab-df-convert {\n",
              "      background-color: #3B4455;\n",
              "      fill: #D2E3FC;\n",
              "    }\n",
              "\n",
              "    [theme=dark] .colab-df-convert:hover {\n",
              "      background-color: #434B5C;\n",
              "      box-shadow: 0px 1px 3px 1px rgba(0, 0, 0, 0.15);\n",
              "      filter: drop-shadow(0px 1px 2px rgba(0, 0, 0, 0.3));\n",
              "      fill: #FFFFFF;\n",
              "    }\n",
              "  </style>\n",
              "\n",
              "      <script>\n",
              "        const buttonEl =\n",
              "          document.querySelector('#df-d1bedc47-d603-49ec-8c56-9275eeb45165 button.colab-df-convert');\n",
              "        buttonEl.style.display =\n",
              "          google.colab.kernel.accessAllowed ? 'block' : 'none';\n",
              "\n",
              "        async function convertToInteractive(key) {\n",
              "          const element = document.querySelector('#df-d1bedc47-d603-49ec-8c56-9275eeb45165');\n",
              "          const dataTable =\n",
              "            await google.colab.kernel.invokeFunction('convertToInteractive',\n",
              "                                                     [key], {});\n",
              "          if (!dataTable) return;\n",
              "\n",
              "          const docLinkHtml = 'Like what you see? Visit the ' +\n",
              "            '<a target=\"_blank\" href=https://colab.research.google.com/notebooks/data_table.ipynb>data table notebook</a>'\n",
              "            + ' to learn more about interactive tables.';\n",
              "          element.innerHTML = '';\n",
              "          dataTable['output_type'] = 'display_data';\n",
              "          await google.colab.output.renderOutput(dataTable, element);\n",
              "          const docLink = document.createElement('div');\n",
              "          docLink.innerHTML = docLinkHtml;\n",
              "          element.appendChild(docLink);\n",
              "        }\n",
              "      </script>\n",
              "    </div>\n",
              "  </div>\n",
              "  "
            ]
          },
          "metadata": {},
          "execution_count": 82
        }
      ]
    },
    {
      "cell_type": "code",
      "source": [
        "import numpy as np\n",
        "from sklearn.model_selection import train_test_split\n",
        "from sklearn.preprocessing import StandardScaler\n",
        "from sklearn.neighbors import KNeighborsClassifier\n",
        "from sklearn.metrics import confusion_matrix\n",
        "from sklearn.metrics import accuracy_score\n",
        "from sklearn.metrics import classification_report, roc_curve, auc\n",
        "import matplotlib.pyplot as plt"
      ],
      "metadata": {
        "id": "Q3SxkJMmxKqp"
      },
      "execution_count": 64,
      "outputs": []
    },
    {
      "cell_type": "code",
      "source": [
        "x=df.iloc[:, 2:-1].values\n",
        "print(x[0:10])"
      ],
      "metadata": {
        "colab": {
          "base_uri": "https://localhost:8080/"
        },
        "id": "qcsbPcPixPH2",
        "outputId": "a03f101b-b7fb-4b3f-d98a-3f8fd062cae5"
      },
      "execution_count": 83,
      "outputs": [
        {
          "output_type": "stream",
          "name": "stdout",
          "text": [
            "[[1.   0.95 0.95 0.98 1.   1.02 1.06 1.   0.98]\n",
            " [0.99 1.01 1.01 1.01 1.01 1.   1.   1.01 1.  ]\n",
            " [0.83 0.88 0.9  0.89 0.9  0.9  0.92 0.95 0.96]\n",
            " [0.84 0.97 1.   0.99 1.   1.02 1.   1.   1.03]\n",
            " [0.64 0.81 0.8  0.75 0.75 0.77 0.82 0.84 0.87]\n",
            " [0.97 0.98 0.98 0.9  0.87 0.83 0.87 0.98 0.99]\n",
            " [0.87 0.95 0.99 0.94 0.77 0.94 0.95 0.95 0.95]\n",
            " [0.72 0.86 0.88 0.93 0.96 0.98 1.01 1.08 1.05]\n",
            " [0.81 0.96 0.99 0.88 0.87 0.92 0.86 1.02 1.04]\n",
            " [0.95 1.03 0.99 1.11 1.04 1.   1.02 1.02 1.02]]\n"
          ]
        }
      ]
    },
    {
      "cell_type": "code",
      "source": [
        "y = df.iloc[:, -1].values\n",
        "print(y[0:10])"
      ],
      "metadata": {
        "colab": {
          "base_uri": "https://localhost:8080/"
        },
        "id": "lRZwlm5cxqZ9",
        "outputId": "9ff23d07-6933-4932-a49a-b5c1c90363ea"
      },
      "execution_count": 87,
      "outputs": [
        {
          "output_type": "stream",
          "name": "stdout",
          "text": [
            "[0.97 1.   0.96 1.03 0.94 0.99 0.96 1.03 1.08 1.03]\n"
          ]
        }
      ]
    },
    {
      "cell_type": "code",
      "source": [
        "x_train, x_test, y_train, y_test = train_test_split(x, y, test_size = 0.25, random_state=1)\n"
      ],
      "metadata": {
        "id": "fUYpEJe5xfs-"
      },
      "execution_count": 100,
      "outputs": []
    },
    {
      "cell_type": "code",
      "source": [
        "from sklearn.linear_model import LinearRegression\n",
        "reg = LinearRegression()\n",
        "model = reg.fit(x_train,y_train)\n",
        "print(x_test)"
      ],
      "metadata": {
        "colab": {
          "base_uri": "https://localhost:8080/"
        },
        "id": "u_adoJmK6qwb",
        "outputId": "4ec3e661-99a2-45aa-8b4b-61545bd4d7ed"
      },
      "execution_count": 104,
      "outputs": [
        {
          "output_type": "stream",
          "name": "stdout",
          "text": [
            "[[1.15 1.1  1.18 1.17 1.17 1.17 1.21 1.19 1.19]\n",
            " [0.82 0.98 0.97 0.87 0.88 0.87 0.87 0.98 0.98]\n",
            " [0.87 0.94 0.93 0.94 0.99 1.   1.   0.99 1.  ]\n",
            " [0.85 0.87 0.86 1.05 1.17 1.   0.92 0.97 1.1 ]\n",
            " [1.01 1.08 1.08 1.08 1.08 1.09 0.98 0.98 1.03]\n",
            " [0.66 0.84 0.85 0.88 0.88 0.89 0.93 0.94 0.96]\n",
            " [0.87 0.95 0.97 0.97 0.97 0.97 0.98 0.98 0.98]\n",
            " [0.97 0.93 0.91 1.06 1.07 0.97 0.91 0.96 0.97]\n",
            " [0.93 0.91 0.91 0.96 1.   1.03 1.01 1.19 1.04]\n",
            " [0.84 0.95 0.95 0.96 0.95 0.96 0.98 0.98 0.98]\n",
            " [0.83 0.88 0.9  0.89 0.9  0.9  0.92 0.95 0.96]\n",
            " [0.79 0.97 0.93 0.93 0.93 0.94 0.98 1.04 1.04]\n",
            " [0.95 0.95 0.96 0.95 0.95 0.96 0.97 0.96 0.96]\n",
            " [ nan  nan  nan  nan  nan 0.9  0.91 0.93 0.94]\n",
            " [0.62 0.66 0.69 0.74 0.75 0.73 0.81 0.94 0.94]\n",
            " [0.86 0.99 0.94 0.94 0.93 0.93 0.94 0.93 0.93]\n",
            " [0.99 1.05 1.03 1.06 1.05 1.03 0.96 0.97 1.  ]\n",
            " [0.9  0.92 0.93 0.95 0.97 0.96 0.97 0.97 0.96]]\n"
          ]
        }
      ]
    },
    {
      "cell_type": "code",
      "source": [
        "import numpy\n",
        "x_test = np.delete(x_test,12,0)\n",
        "print(x_test)"
      ],
      "metadata": {
        "colab": {
          "base_uri": "https://localhost:8080/"
        },
        "id": "-Jk4Z2796v7_",
        "outputId": "6724130d-e0ac-4738-85dc-b7355e723484"
      },
      "execution_count": 116,
      "outputs": [
        {
          "output_type": "stream",
          "name": "stdout",
          "text": [
            "[[1.15 1.1  1.18 1.17 1.17 1.17 1.21 1.19 1.19]\n",
            " [0.82 0.98 0.97 0.87 0.88 0.87 0.87 0.98 0.98]\n",
            " [0.87 0.94 0.93 0.94 0.99 1.   1.   0.99 1.  ]\n",
            " [0.85 0.87 0.86 1.05 1.17 1.   0.92 0.97 1.1 ]\n",
            " [1.01 1.08 1.08 1.08 1.08 1.09 0.98 0.98 1.03]\n",
            " [0.66 0.84 0.85 0.88 0.88 0.89 0.93 0.94 0.96]\n",
            " [0.87 0.95 0.97 0.97 0.97 0.97 0.98 0.98 0.98]\n",
            " [0.97 0.93 0.91 1.06 1.07 0.97 0.91 0.96 0.97]\n",
            " [0.93 0.91 0.91 0.96 1.   1.03 1.01 1.19 1.04]\n",
            " [0.84 0.95 0.95 0.96 0.95 0.96 0.98 0.98 0.98]\n",
            " [0.83 0.88 0.9  0.89 0.9  0.9  0.92 0.95 0.96]\n",
            " [0.79 0.97 0.93 0.93 0.93 0.94 0.98 1.04 1.04]]\n"
          ]
        }
      ]
    },
    {
      "cell_type": "code",
      "source": [
        "y_pred = model.predict(x_test)"
      ],
      "metadata": {
        "id": "nPh0wJNO8fiz"
      },
      "execution_count": 117,
      "outputs": []
    },
    {
      "cell_type": "code",
      "source": [
        "print(df)"
      ],
      "metadata": {
        "colab": {
          "base_uri": "https://localhost:8080/"
        },
        "id": "TsDY5B3zC2lZ",
        "outputId": "6e9ce012-25a9-4316-a0ae-413bf9ffe45f"
      },
      "execution_count": 124,
      "outputs": [
        {
          "output_type": "stream",
          "name": "stdout",
          "text": [
            "             School Type            India/ State/ UTs  2001  2002  2003  2004  \\\n",
            "0         Primary School  Andaman and Nicobar Islands  1.00  0.95  0.95  0.98   \n",
            "1         Primary School               Andhra Pradesh  0.99  1.01  1.01  1.01   \n",
            "2         Primary School            Arunachal Pradesh  0.83  0.88  0.90  0.89   \n",
            "3         Primary School                        Assam  0.84  0.97  1.00  0.99   \n",
            "4         Primary School                        Bihar  0.64  0.81  0.80  0.75   \n",
            "..                   ...                          ...   ...   ...   ...   ...   \n",
            "66  Upper Primary School                   Tamil Nadu  0.98  0.98  0.96  0.96   \n",
            "67  Upper Primary School                      Tripura  0.87  0.94  0.93  0.94   \n",
            "68  Upper Primary School                Uttar Pradesh  0.50  0.80  0.80  0.80   \n",
            "69  Upper Primary School                  Uttarakhand  0.95  0.93  0.98  1.00   \n",
            "70  Upper Primary School                  West Bengal  0.78  0.92  0.95  0.91   \n",
            "\n",
            "    2005  2006  2007  2008  2009  2010  \n",
            "0   1.00  1.02  1.06  1.00  0.98  0.97  \n",
            "1   1.01  1.00  1.00  1.01  1.00  1.00  \n",
            "2   0.90  0.90  0.92  0.95  0.96  0.96  \n",
            "3   1.00  1.02  1.00  1.00  1.03  1.03  \n",
            "4   0.75  0.77  0.82  0.84  0.87  0.94  \n",
            "..   ...   ...   ...   ...   ...   ...  \n",
            "66  0.97  0.98  0.97  0.97  0.98  0.99  \n",
            "67  0.99  1.00  1.00  0.99  1.00  0.99  \n",
            "68  0.79  0.79  0.90  0.90  0.89  0.90  \n",
            "69  1.01  1.02  1.04  1.07  1.07  1.07  \n",
            "70  0.88  1.03  1.03  1.03  1.08  1.04  \n",
            "\n",
            "[71 rows x 12 columns]\n"
          ]
        }
      ]
    },
    {
      "cell_type": "markdown",
      "source": [
        "# KNN Classification"
      ],
      "metadata": {
        "id": "c_M36AonDT8Y"
      }
    },
    {
      "cell_type": "code",
      "source": [
        "df.dropna(inplace = True)\n",
        "x=df.iloc[:, 2:12].values\n"
      ],
      "metadata": {
        "id": "1jeqS6FECVEG"
      },
      "execution_count": 142,
      "outputs": []
    },
    {
      "cell_type": "code",
      "source": [
        "#Encode the categorical value of the target column 'test preparation course' to numerical value\n",
        "df['School Type']= df['School Type'].replace({'Primary School':0, 'Upper Primary School':1})"
      ],
      "metadata": {
        "id": "foW23HQZCYUd"
      },
      "execution_count": 143,
      "outputs": []
    },
    {
      "cell_type": "code",
      "source": [
        "#Use the target variable as 'test preparation course'\n",
        "y = df.iloc[:,0].values\n",
        "print(y)"
      ],
      "metadata": {
        "colab": {
          "base_uri": "https://localhost:8080/"
        },
        "id": "HIjHWhS3Ca1T",
        "outputId": "701375b5-25c8-41b7-d22e-84aac3c06b59"
      },
      "execution_count": 144,
      "outputs": [
        {
          "output_type": "stream",
          "name": "stdout",
          "text": [
            "[0 0 0 0 0 0 0 0 0 0 0 0 0 0 0 0 0 0 0 0 0 0 0 0 0 0 0 0 0 0 0 0 0 0 0 1 1\n",
            " 1 1 1 1 1 1 1 1 1 1 1 1 1 1 1 1 1 1 1 1 1 1 1 1 1 1 1 1 1 1 1 1 1]\n"
          ]
        }
      ]
    },
    {
      "cell_type": "code",
      "source": [
        "#train a model on a portion of the data\n",
        "x_train, x_test, y_train, y_test = train_test_split(x, y, test_size = 0.25, random_state=1)"
      ],
      "metadata": {
        "id": "2fF4A_opCc-m"
      },
      "execution_count": 145,
      "outputs": []
    },
    {
      "cell_type": "code",
      "source": [
        "#scaleing numerical data to a common range\n",
        "standard_Scalar = StandardScaler()\n",
        "x_train = standard_Scalar.fit_transform(x_train)\n",
        "x_test = standard_Scalar.transform(x_test)"
      ],
      "metadata": {
        "id": "Zeh6CaLuCfQ4"
      },
      "execution_count": 146,
      "outputs": []
    },
    {
      "cell_type": "code",
      "source": [
        "#Perform the classification with K=3\n",
        "knn = KNeighborsClassifier(n_neighbors=10)\n",
        "knn.fit(x_train,y_train)\n",
        "print(x_test)"
      ],
      "metadata": {
        "colab": {
          "base_uri": "https://localhost:8080/"
        },
        "id": "5QULQcyvCg0n",
        "outputId": "12e05854-2b0f-4210-f5e7-98c149913d05"
      },
      "execution_count": 147,
      "outputs": [
        {
          "output_type": "stream",
          "name": "stdout",
          "text": [
            "[[-0.12958841 -0.13640512  0.24070798  0.16013304  0.30625326  0.3103852\n",
            "   0.09561436 -0.16984096 -0.10146836 -0.02506667]\n",
            " [-0.14327084 -0.13640512  0.34415273 -0.75379699 -0.65566973 -0.92253378\n",
            "  -1.06065231 -0.05049326 -0.10146836 -0.18800004]\n",
            " [-0.13899508 -0.13946875 -0.06962627 -0.04296252  0.52001392  0.53455228\n",
            "   0.44249436  0.06885444  0.21831071 -0.02506667]\n",
            " [-0.15695328 -0.15785052 -1.93163178 -0.85534477 -0.76255006 -0.69836669\n",
            "  -0.48251897 -0.64723176 -0.58113696  0.46373343]\n",
            " [-0.12702296 -0.12874605  1.48204498  1.37870641  1.48193691  1.54330417\n",
            "   0.21124103 -0.05049326  0.69797931 -0.02506667]\n",
            " [-0.15695328 -0.14712782 -0.89718428 -0.65224921 -0.65566973 -0.69836669\n",
            "  -0.36689231 -0.52788406 -0.42124743 -0.35093341]\n",
            " [-0.14840176 -0.14636191 -0.89718428 -0.95689255 -1.29695172 -1.4829515\n",
            "  -1.63878564 -0.40853636 -0.58113696 -0.51386678]\n",
            " [-0.13985024 -0.14100056 -0.06962627  0.05858526  0.19937293  0.19830165\n",
            "   0.21124103  0.06885444  0.05842118  0.1378667 ]\n",
            " [-0.13899508 -0.13870284  0.34415273  0.26168082  0.30625326  0.19830165\n",
            "   0.21124103 -0.05049326 -0.10146836 -0.51386678]\n",
            " [-0.14156054 -0.13870284  0.13726323  0.16013304  0.09249259  0.08621811\n",
            "   0.21124103 -0.05049326 -0.10146836 -0.02506667]\n",
            " [-0.14241569 -0.14406419 -0.37996053 -0.55070143 -0.44190906 -0.58628315\n",
            "  -0.48251897 -0.40853636 -0.42124743 -0.51386678]\n",
            " [-0.16635995 -0.16397778 -3.17296879 -3.39403929 -3.22079769 -2.94003756\n",
            "  -2.67942564 -2.67614267 -2.65970091 -1.81733372]\n",
            " [-0.14070539 -0.1448301  -0.79373953  1.07406307  2.44385989  0.53455228\n",
            "  -0.48251897 -0.16984096  1.81720606  4.37413427]\n",
            " [-0.13044357 -0.14023466 -0.27651578  1.17561085  1.37505658  0.19830165\n",
            "  -0.59814564 -0.28918866 -0.26135789 -0.35093341]\n",
            " [-0.15524297 -0.14176647 -0.06962627  2.29263644  2.01633857 -0.13794898\n",
            "  -1.4075323   1.38167915  1.81720606  2.09306711]\n",
            " [-0.12616781 -0.12644833  0.96482123  1.78489753  1.26817624  1.43122063\n",
            "   1.25188102  1.50102685  1.97709559  2.09306711]\n",
            " [-0.12873326 -0.13104377  0.96482123  1.17561085  1.16129591  0.87080291\n",
            "  -0.02001231 -0.16984096  0.21831071 -0.51386678]\n",
            " [-0.13215387 -0.13870284  0.24070798  0.05858526  0.09249259  0.08621811\n",
            "   0.09561436 -0.28918866 -0.42124743 -0.67680014]]\n"
          ]
        }
      ]
    },
    {
      "cell_type": "code",
      "source": [
        "#prediction of test preparation course completion\n",
        "y_pred = knn.predict(x_test)\n",
        "print(y_test)\n",
        "print('\\n')\n",
        "print(y_pred)"
      ],
      "metadata": {
        "colab": {
          "base_uri": "https://localhost:8080/"
        },
        "id": "6Cw6mGD5CicH",
        "outputId": "46a4e747-d79a-4dfb-b3c9-0e0c16839fbf"
      },
      "execution_count": 148,
      "outputs": [
        {
          "output_type": "stream",
          "name": "stdout",
          "text": [
            "[1 0 1 1 0 1 1 1 1 0 0 1 1 1 1 1 1 1]\n",
            "\n",
            "\n",
            "[0 0 0 0 0 1 1 0 0 0 0 1 0 0 0 0 0 0]\n"
          ]
        }
      ]
    },
    {
      "cell_type": "code",
      "source": [
        "import numpy as np\n",
        "from sklearn.preprocessing import StandardScaler\n",
        "from sklearn.neighbors import KNeighborsClassifier\n",
        "from sklearn.datasets import make_classification\n",
        "from sklearn.linear_model import LogisticRegression\n",
        "from sklearn.metrics import classification_report, roc_curve, auc, roc_auc_score, accuracy_score, confusion_matrix, f1_score, confusion_matrix, recall_score, precision_score\n",
        "import matplotlib.pyplot as plt\n",
        "from sklearn.model_selection import train_test_split, cross_val_score\n",
        "\n",
        "\n",
        "# Generate simulated binary classification data\n",
        "X, y = make_classification(n_samples=1000, n_classes=2, random_state=1)\n",
        "\n",
        "# Split the data into training and test sets\n",
        "train_X, test_X, train_y, test_y = train_test_split(X, y, test_size=0.5, random_state=2)\n",
        "\n",
        "# Train a logistic regression model\n",
        "model = LogisticRegression(solver='lbfgs')\n",
        "model.fit(train_X, train_y)\n",
        "\n",
        "# Evaluate the model's performance on the test set\n",
        "lr_probs = model.predict_proba(test_X)[:, 1]\n",
        "lr_auc = roc_auc_score(test_y, lr_probs)\n",
        "print('Logistic Regression: ROC AUC=%.3f' % lr_auc)\n",
        "\n",
        "# Use cross-validation to get a more accurate estimate of the model's performance\n",
        "scores = cross_val_score(model, X, y, cv=5)\n",
        "print('Cross-validated accuracy: %.3f +/- %.3f' % (np.mean(scores), np.std(scores)))\n",
        "\n",
        "# Visualize the ROC curve\n",
        "fpr, tpr, _ = roc_curve(test_y, lr_probs)\n",
        "plt.plot(fpr, tpr, marker='.')\n",
        "plt.plot([0, 1], [0, 1], linestyle='--')\n",
        "plt.xlabel('False Positive Rate')\n",
        "plt.ylabel('True Positive Rate')\n",
        "plt.title('ROC Curve')\n",
        "plt.show()\n"
      ],
      "metadata": {
        "colab": {
          "base_uri": "https://localhost:8080/",
          "height": 330
        },
        "id": "Xf0ZkQaPCkMN",
        "outputId": "d6038521-bafc-4229-f7b8-2e127587c249"
      },
      "execution_count": 149,
      "outputs": [
        {
          "output_type": "stream",
          "name": "stdout",
          "text": [
            "Logistic Regression: ROC AUC=0.903\n",
            "Cross-validated accuracy: 0.841 +/- 0.019\n"
          ]
        },
        {
          "output_type": "display_data",
          "data": {
            "text/plain": [
              "<Figure size 432x288 with 1 Axes>"
            ],
            "image/png": "[encoded data removed]"
          },
          "metadata": {
            "needs_background": "light"
          }
        }
      ]
    },
    {
      "cell_type": "code",
      "source": [
        "# generate some example data\n",
        "X, y = make_classification(n_samples=1000, n_features=10, n_classes=2, random_state=42)\n",
        "\n",
        "# split the data into training and test sets\n",
        "X_train, X_test, y_train, y_test = train_test_split(X, y, test_size=0.2, random_state=42)\n",
        "\n",
        "# perform feature scaling on the independent variables\n",
        "scaler = StandardScaler()\n",
        "X_train = scaler.fit_transform(X_train)\n",
        "X_test = scaler.transform(X_test)\n",
        "\n",
        "# train a logistic regression classifier\n",
        "clf = LogisticRegression(random_state=42)\n",
        "clf.fit(X_train, y_train)\n",
        "\n",
        "# make predictions on the test set\n",
        "y_pred = clf.predict(X_test)\n",
        "\n",
        "# calculate the confusion matrix\n",
        "cm = confusion_matrix(y_test, y_pred)\n",
        "\n",
        "# calculate the accuracy\n",
        "accuracy = accuracy_score(y_test, y_pred)\n",
        "\n",
        "# calculate the recall\n",
        "recall = recall_score(y_test, y_pred)\n",
        "\n",
        "# calculate the precision\n",
        "precision = precision_score(y_test, y_pred)\n",
        "\n",
        "# calculate the specificity\n",
        "specificity = cm[0, 0] / (cm[0, 0] + cm[0, 1])\n",
        "\n",
        "f_score = 2 * (precision * recall) / (precision + recall)\n",
        "\n",
        "fpr, tpr, thresholds = roc_curve(y_test, clf.predict_proba(X_test)[:,1])\n",
        "auc_score = auc(fpr, tpr)\n",
        "\n",
        "print(\"Confusion Matrix:\\n\", cm.round(3))\n",
        "print(\"Accuracy:\", accuracy.round(3))\n",
        "print(\"Recall:\", recall.round(3))\n",
        "print(\"Precision:\", precision.round(3))\n",
        "print(\"Specificity:\", specificity.round(3))\n",
        "print(\"F-score:\", f_score.round(3))\n",
        "print(\"AUC score:\", auc_score.round(3))"
      ],
      "metadata": {
        "colab": {
          "base_uri": "https://localhost:8080/"
        },
        "id": "PO-ARKc8Cnfu",
        "outputId": "d2703e08-9b68-4cfb-ccd6-c52df6679530"
      },
      "execution_count": 150,
      "outputs": [
        {
          "output_type": "stream",
          "name": "stdout",
          "text": [
            "Confusion Matrix:\n",
            " [[75 14]\n",
            " [20 91]]\n",
            "Accuracy: 0.83\n",
            "Recall: 0.82\n",
            "Precision: 0.867\n",
            "Specificity: 0.843\n",
            "F-score: 0.843\n",
            "AUC score: 0.913\n"
          ]
        }
      ]
    }
  ]
}